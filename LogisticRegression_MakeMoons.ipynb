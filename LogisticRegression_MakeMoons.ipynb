{
  "nbformat": 4,
  "nbformat_minor": 0,
  "metadata": {
    "colab": {
      "name": "LoRHomework.ipynb",
      "provenance": [],
      "collapsed_sections": [],
      "include_colab_link": true
    },
    "kernelspec": {
      "name": "python3",
      "display_name": "Python 3"
    }
  },
  "cells": [
    {
      "cell_type": "markdown",
      "metadata": {
        "id": "view-in-github",
        "colab_type": "text"
      },
      "source": [
        "<a href=\"https://colab.research.google.com/github/spandangupta/Data602-Data-Analysis-Machine-Learning-Practice/blob/master/LogisticRegression_MakeMoons.ipynb\" target=\"_parent\"><img src=\"https://colab.research.google.com/assets/colab-badge.svg\" alt=\"Open In Colab\"/></a>"
      ]
    },
    {
      "cell_type": "code",
      "metadata": {
        "id": "N1OcyaQo9eZM",
        "colab_type": "code",
        "colab": {}
      },
      "source": [
        "import pandas as pd\n",
        "from sklearn import datasets\n",
        "from matplotlib import pyplot\n",
        "from matplotlib import pyplot\n",
        "from matplotlib import pylab\n",
        "import numpy as np\n",
        "from sklearn.linear_model import LogisticRegression\n",
        "from sklearn.linear_model import RidgeClassifier\n",
        "from sklearn.utils import shuffle\n",
        "import scipy"
      ],
      "execution_count": null,
      "outputs": []
    },
    {
      "cell_type": "code",
      "metadata": {
        "id": "Du_fSgQ89xkQ",
        "colab_type": "code",
        "colab": {
          "base_uri": "https://localhost:8080/",
          "height": 364
        },
        "outputId": "674b4711-a37e-4b72-b40e-407090bd43a9"
      },
      "source": [
        "d=datasets.make_moons()\n",
        "pyplot.scatter(x=d[0][::,0],y=d[0][::,1])"
      ],
      "execution_count": null,
      "outputs": [
        {
          "output_type": "execute_result",
          "data": {
            "text/plain": [
              "<matplotlib.collections.PathCollection at 0x7f233181ad30>"
            ]
          },
          "metadata": {
            "tags": []
          },
          "execution_count": 11
        },
        {
          "output_type": "display_data",
          "data": {
            "image/png": "[encoded data removed]",
            "text/plain": [
              "<matplotlib.figure.Figure at 0x7f233193a2e8>"
            ]
          },
          "metadata": {
            "tags": []
          }
        }
      ]
    },
    {
      "cell_type": "code",
      "metadata": {
        "id": "0W56zmBP_oVb",
        "colab_type": "code",
        "colab": {
          "base_uri": "https://localhost:8080/",
          "height": 442
        },
        "outputId": "c4d34edb-775f-4efb-9d9e-8613af425eea"
      },
      "source": [
        "d[0][::,1]"
      ],
      "execution_count": null,
      "outputs": [
        {
          "output_type": "execute_result",
          "data": {
            "text/plain": [
              "array([ 8.86599306e-01, -4.58667853e-01,  9.28244800e-03,  3.08841371e-01,\n",
              "        3.15108218e-01, -4.74927912e-01, -9.81105305e-02,  9.38468422e-01,\n",
              "        1.27877162e-01,  9.14412623e-01,  6.48228395e-01, -1.48228395e-01,\n",
              "       -4.14412623e-01,  1.91158629e-01,  9.58667853e-01,  5.00000000e-01,\n",
              "        4.33883739e-01, -4.58667853e-01,  4.90717552e-01, -4.95379113e-01,\n",
              "        2.46345416e-01,  6.40702200e-02,  4.33883739e-01,  1.91158629e-01,\n",
              "       -1.95682551e-01,  6.61162609e-02,  1.24732995e-01, -4.38468422e-01,\n",
              "        5.98110530e-01,  4.35929780e-01,  7.40277997e-01, -2.81831482e-01,\n",
              "       -3.86599306e-01,  7.81831482e-01,  3.75267005e-01, -9.81105305e-02,\n",
              "        3.08841371e-01, -2.40277997e-01,  1.22464680e-16,  0.00000000e+00,\n",
              "        8.86599306e-01, -4.55349012e-02,  9.38468422e-01,  9.95379113e-01,\n",
              "        3.72122838e-01, -3.55142763e-01,  8.20172255e-01,  4.90717552e-01,\n",
              "        9.87181783e-01,  9.95379113e-01, -4.87181783e-01,  4.35929780e-01,\n",
              "       -2.40277997e-01,  5.45534901e-01,  9.28244800e-03, -4.99486216e-01,\n",
              "       -1.95682551e-01,  5.45534901e-01,  3.75267005e-01,  1.84891782e-01,\n",
              "        7.40277997e-01,  6.61162609e-02,  3.15108218e-01, -4.74927912e-01,\n",
              "        6.40702200e-02,  2.53654584e-01,  9.14412623e-01, -4.14412623e-01,\n",
              "        6.95682551e-01,  9.74927912e-01,  5.98110530e-01,  8.55142763e-01,\n",
              "        8.20172255e-01, -3.20172255e-01, -4.38468422e-01,  1.84891782e-01,\n",
              "        7.81831482e-01,  6.48228395e-01, -1.48228395e-01, -3.20172255e-01,\n",
              "       -3.86599306e-01,  2.46345416e-01,  1.24732995e-01, -4.55349012e-02,\n",
              "        9.99486216e-01,  9.74927912e-01,  9.58667853e-01,  2.53654584e-01,\n",
              "        3.72122838e-01,  1.27877162e-01, -2.81831482e-01,  5.00000000e-01,\n",
              "        6.95682551e-01,  9.99486216e-01, -4.87181783e-01,  8.55142763e-01,\n",
              "       -3.55142763e-01, -4.95379113e-01,  9.87181783e-01, -4.99486216e-01])"
            ]
          },
          "metadata": {
            "tags": []
          },
          "execution_count": 3
        }
      ]
    },
    {
      "cell_type": "code",
      "metadata": {
        "id": "3b9r1shH_xd-",
        "colab_type": "code",
        "colab": {
          "base_uri": "https://localhost:8080/",
          "height": 1802
        },
        "outputId": "46c8468d-7d8f-4423-c45f-3f1e18fa9b48"
      },
      "source": [
        "d"
      ],
      "execution_count": null,
      "outputs": [
        {
          "output_type": "execute_result",
          "data": {
            "text/plain": [
              "(array([[ 4.62538290e-01,  8.86599306e-01],\n",
              "        [ 7.15472413e-01, -4.58667853e-01],\n",
              "        [ 1.28681296e-01,  9.28244800e-03],\n",
              "        [ 1.98155916e+00,  3.08841371e-01],\n",
              "        [-9.49055747e-01,  3.15108218e-01],\n",
              "        [ 7.77479066e-01, -4.74927912e-01],\n",
              "        [ 1.80141362e+00, -9.81105305e-02],\n",
              "        [-3.45365054e-01,  9.38468422e-01],\n",
              "        [-9.91790014e-01,  1.27877162e-01],\n",
              "        [ 4.04783343e-01,  9.14412623e-01],\n",
              "        [-7.61445958e-01,  6.48228395e-01],\n",
              "        [ 1.76144596e+00, -1.48228395e-01],\n",
              "        [ 5.95216657e-01, -4.14412623e-01],\n",
              "        [-9.81559157e-01,  1.91158629e-01],\n",
              "        [ 2.84527587e-01,  9.58667853e-01],\n",
              "        [ 2.00000000e+00,  5.00000000e-01],\n",
              "        [-9.00968868e-01,  4.33883739e-01],\n",
              "        [ 1.28452759e+00, -4.58667853e-01],\n",
              "        [-8.71318704e-01,  4.90717552e-01],\n",
              "        [ 9.03976974e-01, -4.95379113e-01],\n",
              "        [ 1.96729486e+00,  2.46345416e-01],\n",
              "        [ 9.97945393e-01,  6.40702200e-02],\n",
              "        [ 9.00968868e-01,  4.33883739e-01],\n",
              "        [ 9.81559157e-01,  1.91158629e-01],\n",
              "        [ 2.81650650e-01, -1.95682551e-01],\n",
              "        [ 1.90096887e+00,  6.61162609e-02],\n",
              "        [ 7.30832427e-02,  1.24732995e-01],\n",
              "        [ 1.34536505e+00, -4.38468422e-01],\n",
              "        [ 8.01413622e-01,  5.98110530e-01],\n",
              "        [ 1.99794539e+00,  4.35929780e-01],\n",
              "        [-6.72300890e-01,  7.40277997e-01],\n",
              "        [ 3.76510198e-01, -2.81831482e-01],\n",
              "        [ 5.37461710e-01, -3.86599306e-01],\n",
              "        [ 6.23489802e-01,  7.81831482e-01],\n",
              "        [-9.26916757e-01,  3.75267005e-01],\n",
              "        [ 1.98586378e-01, -9.81105305e-02],\n",
              "        [ 1.84408430e-02,  3.08841371e-01],\n",
              "        [ 3.27699110e-01, -2.40277997e-01],\n",
              "        [-1.00000000e+00,  1.22464680e-16],\n",
              "        [ 1.00000000e+00,  0.00000000e+00],\n",
              "        [-4.62538290e-01,  8.86599306e-01],\n",
              "        [ 1.61911895e-01, -4.55349012e-02],\n",
              "        [ 3.45365054e-01,  9.38468422e-01],\n",
              "        [ 9.60230259e-02,  9.95379113e-01],\n",
              "        [ 8.20998618e-03,  3.72122838e-01],\n",
              "        [ 4.81607432e-01, -3.55142763e-01],\n",
              "        [ 5.72116660e-01,  8.20172255e-01],\n",
              "        [ 8.71318704e-01,  4.90717552e-01],\n",
              "        [ 1.59599895e-01,  9.87181783e-01],\n",
              "        [-9.60230259e-02,  9.95379113e-01],\n",
              "        [ 8.40400105e-01, -4.87181783e-01],\n",
              "        [ 2.05460725e-03,  4.35929780e-01],\n",
              "        [ 1.67230089e+00, -2.40277997e-01],\n",
              "        [ 8.38088105e-01,  5.45534901e-01],\n",
              "        [ 1.87131870e+00,  9.28244800e-03],\n",
              "        [ 1.03205158e+00, -4.99486216e-01],\n",
              "        [ 1.71834935e+00, -1.95682551e-01],\n",
              "        [-8.38088105e-01,  5.45534901e-01],\n",
              "        [ 9.26916757e-01,  3.75267005e-01],\n",
              "        [ 5.09442530e-02,  1.84891782e-01],\n",
              "        [ 6.72300890e-01,  7.40277997e-01],\n",
              "        [ 9.90311321e-02,  6.61162609e-02],\n",
              "        [ 9.49055747e-01,  3.15108218e-01],\n",
              "        [ 1.22252093e+00, -4.74927912e-01],\n",
              "        [-9.97945393e-01,  6.40702200e-02],\n",
              "        [ 9.67294863e-01,  2.53654584e-01],\n",
              "        [-4.04783343e-01,  9.14412623e-01],\n",
              "        [ 1.40478334e+00, -4.14412623e-01],\n",
              "        [ 7.18349350e-01,  6.95682551e-01],\n",
              "        [ 2.22520934e-01,  9.74927912e-01],\n",
              "        [-8.01413622e-01,  5.98110530e-01],\n",
              "        [-5.18392568e-01,  8.55142763e-01],\n",
              "        [-5.72116660e-01,  8.20172255e-01],\n",
              "        [ 1.57211666e+00, -3.20172255e-01],\n",
              "        [ 6.54634946e-01, -4.38468422e-01],\n",
              "        [ 1.94905575e+00,  1.84891782e-01],\n",
              "        [-6.23489802e-01,  7.81831482e-01],\n",
              "        [ 7.61445958e-01,  6.48228395e-01],\n",
              "        [ 2.38554042e-01, -1.48228395e-01],\n",
              "        [ 4.27883340e-01, -3.20172255e-01],\n",
              "        [ 1.46253829e+00, -3.86599306e-01],\n",
              "        [ 3.27051370e-02,  2.46345416e-01],\n",
              "        [ 1.92691676e+00,  1.24732995e-01],\n",
              "        [ 1.83808810e+00, -4.55349012e-02],\n",
              "        [-3.20515776e-02,  9.99486216e-01],\n",
              "        [-2.22520934e-01,  9.74927912e-01],\n",
              "        [-2.84527587e-01,  9.58667853e-01],\n",
              "        [-9.67294863e-01,  2.53654584e-01],\n",
              "        [ 1.99179001e+00,  3.72122838e-01],\n",
              "        [ 9.91790014e-01,  1.27877162e-01],\n",
              "        [ 1.62348980e+00, -2.81831482e-01],\n",
              "        [ 0.00000000e+00,  5.00000000e-01],\n",
              "        [-7.18349350e-01,  6.95682551e-01],\n",
              "        [ 3.20515776e-02,  9.99486216e-01],\n",
              "        [ 1.15959990e+00, -4.87181783e-01],\n",
              "        [ 5.18392568e-01,  8.55142763e-01],\n",
              "        [ 1.51839257e+00, -3.55142763e-01],\n",
              "        [ 1.09602303e+00, -4.95379113e-01],\n",
              "        [-1.59599895e-01,  9.87181783e-01],\n",
              "        [ 9.67948422e-01, -4.99486216e-01]]),\n",
              " array([0, 1, 1, 1, 0, 1, 1, 0, 0, 0, 0, 1, 1, 0, 0, 1, 0, 1, 0, 1, 1, 0,\n",
              "        0, 0, 1, 1, 1, 1, 0, 1, 0, 1, 1, 0, 0, 1, 1, 1, 0, 0, 0, 1, 0, 0,\n",
              "        1, 1, 0, 0, 0, 0, 1, 1, 1, 0, 1, 1, 1, 0, 0, 1, 0, 1, 0, 1, 0, 0,\n",
              "        0, 1, 0, 0, 0, 0, 0, 1, 1, 1, 0, 0, 1, 1, 1, 1, 1, 1, 0, 0, 0, 0,\n",
              "        1, 0, 1, 1, 0, 0, 1, 0, 1, 1, 0, 1]))"
            ]
          },
          "metadata": {
            "tags": []
          },
          "execution_count": 4
        }
      ]
    },
    {
      "cell_type": "code",
      "metadata": {
        "id": "6z3m9sZUAs2s",
        "colab_type": "code",
        "colab": {}
      },
      "source": [
        "moon_df=shuffle(pd.DataFrame(data=np.c_[d],columns= list(['A','B','target'])),random_state = 1)\n",
        "\n"
      ],
      "execution_count": null,
      "outputs": []
    },
    {
      "cell_type": "code",
      "metadata": {
        "id": "KLt7BOR1X3Fb",
        "colab_type": "code",
        "colab": {
          "base_uri": "https://localhost:8080/",
          "height": 204
        },
        "outputId": "c1d2e892-1fea-4a86-81cd-b3dc049c064a"
      },
      "source": [
        "moon_df.head()"
      ],
      "execution_count": null,
      "outputs": [
        {
          "output_type": "execute_result",
          "data": {
            "text/html": [
              "<div>\n",
              "<style scoped>\n",
              "    .dataframe tbody tr th:only-of-type {\n",
              "        vertical-align: middle;\n",
              "    }\n",
              "\n",
              "    .dataframe tbody tr th {\n",
              "        vertical-align: top;\n",
              "    }\n",
              "\n",
              "    .dataframe thead th {\n",
              "        text-align: right;\n",
              "    }\n",
              "</style>\n",
              "<table border=\"1\" class=\"dataframe\">\n",
              "  <thead>\n",
              "    <tr style=\"text-align: right;\">\n",
              "      <th></th>\n",
              "      <th>A</th>\n",
              "      <th>B</th>\n",
              "      <th>target</th>\n",
              "    </tr>\n",
              "  </thead>\n",
              "  <tbody>\n",
              "    <tr>\n",
              "      <th>80</th>\n",
              "      <td>1.838088</td>\n",
              "      <td>-0.045535</td>\n",
              "      <td>1.0</td>\n",
              "    </tr>\n",
              "    <tr>\n",
              "      <th>84</th>\n",
              "      <td>0.018441</td>\n",
              "      <td>0.308841</td>\n",
              "      <td>1.0</td>\n",
              "    </tr>\n",
              "    <tr>\n",
              "      <th>33</th>\n",
              "      <td>0.623490</td>\n",
              "      <td>0.781831</td>\n",
              "      <td>0.0</td>\n",
              "    </tr>\n",
              "    <tr>\n",
              "      <th>81</th>\n",
              "      <td>1.222521</td>\n",
              "      <td>-0.474928</td>\n",
              "      <td>1.0</td>\n",
              "    </tr>\n",
              "    <tr>\n",
              "      <th>93</th>\n",
              "      <td>0.376510</td>\n",
              "      <td>-0.281831</td>\n",
              "      <td>1.0</td>\n",
              "    </tr>\n",
              "  </tbody>\n",
              "</table>\n",
              "</div>"
            ],
            "text/plain": [
              "           A         B  target\n",
              "80  1.838088 -0.045535     1.0\n",
              "84  0.018441  0.308841     1.0\n",
              "33  0.623490  0.781831     0.0\n",
              "81  1.222521 -0.474928     1.0\n",
              "93  0.376510 -0.281831     1.0"
            ]
          },
          "metadata": {
            "tags": []
          },
          "execution_count": 35
        }
      ]
    },
    {
      "cell_type": "code",
      "metadata": {
        "id": "tFYlnI6SSgLn",
        "colab_type": "code",
        "colab": {
          "base_uri": "https://localhost:8080/",
          "height": 297
        },
        "outputId": "655263b2-97ed-4084-de5f-e15dae0a95c7"
      },
      "source": [
        "moon_df.describe()"
      ],
      "execution_count": null,
      "outputs": [
        {
          "output_type": "execute_result",
          "data": {
            "text/html": [
              "<div>\n",
              "<style scoped>\n",
              "    .dataframe tbody tr th:only-of-type {\n",
              "        vertical-align: middle;\n",
              "    }\n",
              "\n",
              "    .dataframe tbody tr th {\n",
              "        vertical-align: top;\n",
              "    }\n",
              "\n",
              "    .dataframe thead th {\n",
              "        text-align: right;\n",
              "    }\n",
              "</style>\n",
              "<table border=\"1\" class=\"dataframe\">\n",
              "  <thead>\n",
              "    <tr style=\"text-align: right;\">\n",
              "      <th></th>\n",
              "      <th>A</th>\n",
              "      <th>B</th>\n",
              "      <th>target</th>\n",
              "    </tr>\n",
              "  </thead>\n",
              "  <tbody>\n",
              "    <tr>\n",
              "      <th>count</th>\n",
              "      <td>100.000000</td>\n",
              "      <td>100.000000</td>\n",
              "      <td>100.000000</td>\n",
              "    </tr>\n",
              "    <tr>\n",
              "      <th>mean</th>\n",
              "      <td>0.500000</td>\n",
              "      <td>0.250000</td>\n",
              "      <td>0.500000</td>\n",
              "    </tr>\n",
              "    <tr>\n",
              "      <th>std</th>\n",
              "      <td>0.876172</td>\n",
              "      <td>0.493046</td>\n",
              "      <td>0.502519</td>\n",
              "    </tr>\n",
              "    <tr>\n",
              "      <th>min</th>\n",
              "      <td>-1.000000</td>\n",
              "      <td>-0.499486</td>\n",
              "      <td>0.000000</td>\n",
              "    </tr>\n",
              "    <tr>\n",
              "      <th>25%</th>\n",
              "      <td>-0.008013</td>\n",
              "      <td>-0.195683</td>\n",
              "      <td>0.000000</td>\n",
              "    </tr>\n",
              "    <tr>\n",
              "      <th>50%</th>\n",
              "      <td>0.500000</td>\n",
              "      <td>0.250000</td>\n",
              "      <td>0.500000</td>\n",
              "    </tr>\n",
              "    <tr>\n",
              "      <th>75%</th>\n",
              "      <td>1.008013</td>\n",
              "      <td>0.695683</td>\n",
              "      <td>1.000000</td>\n",
              "    </tr>\n",
              "    <tr>\n",
              "      <th>max</th>\n",
              "      <td>2.000000</td>\n",
              "      <td>0.999486</td>\n",
              "      <td>1.000000</td>\n",
              "    </tr>\n",
              "  </tbody>\n",
              "</table>\n",
              "</div>"
            ],
            "text/plain": [
              "                A           B      target\n",
              "count  100.000000  100.000000  100.000000\n",
              "mean     0.500000    0.250000    0.500000\n",
              "std      0.876172    0.493046    0.502519\n",
              "min     -1.000000   -0.499486    0.000000\n",
              "25%     -0.008013   -0.195683    0.000000\n",
              "50%      0.500000    0.250000    0.500000\n",
              "75%      1.008013    0.695683    1.000000\n",
              "max      2.000000    0.999486    1.000000"
            ]
          },
          "metadata": {
            "tags": []
          },
          "execution_count": 36
        }
      ]
    },
    {
      "cell_type": "code",
      "metadata": {
        "id": "-tcLoVKNSrBE",
        "colab_type": "code",
        "colab": {
          "base_uri": "https://localhost:8080/",
          "height": 357
        },
        "outputId": "1f16bd9e-cf3e-4236-b78c-8a9fb8cdef85"
      },
      "source": [
        "moon_df.plot.scatter(x='A',y='B', c ='target',cmap='jet')"
      ],
      "execution_count": null,
      "outputs": [
        {
          "output_type": "execute_result",
          "data": {
            "text/plain": [
              "<matplotlib.axes._subplots.AxesSubplot at 0x7f232eb739b0>"
            ]
          },
          "metadata": {
            "tags": []
          },
          "execution_count": 37
        },
        {
          "output_type": "display_data",
          "data": {
            "image/png": "[encoded data removed]",
            "text/plain": [
              "<matplotlib.figure.Figure at 0x7f232eb732e8>"
            ]
          },
          "metadata": {
            "tags": []
          }
        }
      ]
    },
    {
      "cell_type": "code",
      "metadata": {
        "id": "OANU0gmpVzyq",
        "colab_type": "code",
        "colab": {
          "base_uri": "https://localhost:8080/",
          "height": 34
        },
        "outputId": "ff4652a0-cf17-44ed-d239-b1928c1739be"
      },
      "source": [
        "print(moon_df.shape)"
      ],
      "execution_count": null,
      "outputs": [
        {
          "output_type": "stream",
          "text": [
            "(100, 3)\n"
          ],
          "name": "stdout"
        }
      ]
    },
    {
      "cell_type": "code",
      "metadata": {
        "id": "G56zj7V5aSCL",
        "colab_type": "code",
        "colab": {}
      },
      "source": [
        "train_df = moon_df.iloc[0:60]\n",
        "test_df = moon_df.iloc[61:80]\n",
        "val_df = moon_df.iloc[81:100]"
      ],
      "execution_count": null,
      "outputs": []
    },
    {
      "cell_type": "code",
      "metadata": {
        "id": "4ah4_D9Za_V7",
        "colab_type": "code",
        "colab": {
          "base_uri": "https://localhost:8080/",
          "height": 85
        },
        "outputId": "c73c0d8d-f38d-4478-e515-8f2f7b071a17"
      },
      "source": [
        "lr = LogisticRegression()\n",
        "lr.fit(train_df.drop('target', axis=1),train_df['target'])"
      ],
      "execution_count": null,
      "outputs": [
        {
          "output_type": "execute_result",
          "data": {
            "text/plain": [
              "LogisticRegression(C=1.0, class_weight=None, dual=False, fit_intercept=True,\n",
              "          intercept_scaling=1, max_iter=100, multi_class='ovr', n_jobs=1,\n",
              "          penalty='l2', random_state=None, solver='liblinear', tol=0.0001,\n",
              "          verbose=0, warm_start=False)"
            ]
          },
          "metadata": {
            "tags": []
          },
          "execution_count": 40
        }
      ]
    },
    {
      "cell_type": "code",
      "metadata": {
        "id": "o-5wmKbCbboj",
        "colab_type": "code",
        "colab": {}
      },
      "source": [
        "a=sum(lr.predict(train_df.drop('target', axis=1))==train_df['target'])\n",
        "b=sum(lr.predict(test_df.drop('target', axis=1))==test_df['target'])"
      ],
      "execution_count": null,
      "outputs": []
    },
    {
      "cell_type": "code",
      "metadata": {
        "id": "0dCErcao4nG8",
        "colab_type": "code",
        "colab": {
          "base_uri": "https://localhost:8080/",
          "height": 34
        },
        "outputId": "3daa4a22-b01a-4573-e88e-15deb263d01d"
      },
      "source": [
        "#printing training and test data prediction\n",
        "print(a,b)"
      ],
      "execution_count": null,
      "outputs": [
        {
          "output_type": "stream",
          "text": [
            "52 15\n"
          ],
          "name": "stdout"
        }
      ]
    }
  ]
}