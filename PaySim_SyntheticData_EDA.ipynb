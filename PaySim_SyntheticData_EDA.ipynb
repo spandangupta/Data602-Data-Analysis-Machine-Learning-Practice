{
  "nbformat": 4,
  "nbformat_minor": 0,
  "metadata": {
    "colab": {
      "name": "Data601_project.ipynb",
      "provenance": [],
      "collapsed_sections": [],
      "include_colab_link": true
    },
    "kernelspec": {
      "name": "python3",
      "display_name": "Python 3"
    }
  },
  "cells": [
    {
      "cell_type": "markdown",
      "metadata": {
        "id": "view-in-github",
        "colab_type": "text"
      },
      "source": [
        "<a href=\"https://colab.research.google.com/github/spandangupta/Data602-Data-Analysis-Machine-Learning-Practice/blob/master/PaySim_SyntheticData_EDA.ipynb\" target=\"_parent\"><img src=\"https://colab.research.google.com/assets/colab-badge.svg\" alt=\"Open In Colab\"/></a>"
      ]
    },
    {
      "cell_type": "code",
      "metadata": {
        "id": "ko8uUl2_ftHl",
        "colab_type": "code",
        "colab": {}
      },
      "source": [
        "import pandas as pd\n",
        "import numpy as np\n",
        "%matplotlib inline\n",
        "import matplotlib.pyplot as plt\n",
        "import matplotlib.lines as mlines\n",
        "from mpl_toolkits.mplot3d import Axes3D\n",
        "import seaborn as sns\n",
        "from sklearn.model_selection import train_test_split, learning_curve\n",
        "from sklearn.metrics import average_precision_score\n"
      ],
      "execution_count": null,
      "outputs": []
    },
    {
      "cell_type": "code",
      "metadata": {
        "id": "Fq94sJ_RVBK1",
        "colab_type": "code",
        "colab": {}
      },
      "source": [
        ""
      ],
      "execution_count": null,
      "outputs": []
    },
    {
      "cell_type": "code",
      "metadata": {
        "id": "u1niWJNfMer5",
        "colab_type": "code",
        "colab": {}
      },
      "source": [
        ""
      ],
      "execution_count": null,
      "outputs": []
    },
    {
      "cell_type": "code",
      "metadata": {
        "id": "qrf6gMaAIMUS",
        "colab_type": "code",
        "colab": {}
      },
      "source": [
        ""
      ],
      "execution_count": null,
      "outputs": []
    },
    {
      "cell_type": "code",
      "metadata": {
        "id": "bSZN4NZxgKXz",
        "colab_type": "code",
        "colab": {}
      },
      "source": [
        "fin_df = pd.read_csv('PS_20174392719_1491204439457_log.csv')"
      ],
      "execution_count": null,
      "outputs": []
    },
    {
      "cell_type": "code",
      "metadata": {
        "id": "_ORC3bfRVCFo",
        "colab_type": "code",
        "colab": {}
      },
      "source": [
        ""
      ],
      "execution_count": null,
      "outputs": []
    },
    {
      "cell_type": "code",
      "metadata": {
        "id": "cXstffF_Mfde",
        "colab_type": "code",
        "colab": {}
      },
      "source": [
        ""
      ],
      "execution_count": null,
      "outputs": []
    },
    {
      "cell_type": "code",
      "metadata": {
        "id": "WLvXPbO4INpu",
        "colab_type": "code",
        "colab": {}
      },
      "source": [
        ""
      ],
      "execution_count": null,
      "outputs": []
    },
    {
      "cell_type": "code",
      "metadata": {
        "id": "olXvlU8w6xG5",
        "colab_type": "code",
        "colab": {
          "base_uri": "https://localhost:8080/",
          "height": 367
        },
        "outputId": "daa09a8a-3b95-4c53-fa51-d1608b825fa4"
      },
      "source": [
        "fin_df.head(n=10)"
      ],
      "execution_count": null,
      "outputs": [
        {
          "output_type": "execute_result",
          "data": {
            "text/html": [
              "<div>\n",
              "<style scoped>\n",
              "    .dataframe tbody tr th:only-of-type {\n",
              "        vertical-align: middle;\n",
              "    }\n",
              "\n",
              "    .dataframe tbody tr th {\n",
              "        vertical-align: top;\n",
              "    }\n",
              "\n",
              "    .dataframe thead th {\n",
              "        text-align: right;\n",
              "    }\n",
              "</style>\n",
              "<table border=\"1\" class=\"dataframe\">\n",
              "  <thead>\n",
              "    <tr style=\"text-align: right;\">\n",
              "      <th></th>\n",
              "      <th>step</th>\n",
              "      <th>type</th>\n",
              "      <th>amount</th>\n",
              "      <th>nameOrig</th>\n",
              "      <th>oldbalanceOrg</th>\n",
              "      <th>newbalanceOrig</th>\n",
              "      <th>nameDest</th>\n",
              "      <th>oldbalanceDest</th>\n",
              "      <th>newbalanceDest</th>\n",
              "      <th>isFraud</th>\n",
              "      <th>isFlaggedFraud</th>\n",
              "    </tr>\n",
              "  </thead>\n",
              "  <tbody>\n",
              "    <tr>\n",
              "      <th>0</th>\n",
              "      <td>1</td>\n",
              "      <td>PAYMENT</td>\n",
              "      <td>9839.64</td>\n",
              "      <td>C1231006815</td>\n",
              "      <td>170136.00</td>\n",
              "      <td>160296.36</td>\n",
              "      <td>M1979787155</td>\n",
              "      <td>0.0</td>\n",
              "      <td>0.00</td>\n",
              "      <td>0</td>\n",
              "      <td>0</td>\n",
              "    </tr>\n",
              "    <tr>\n",
              "      <th>1</th>\n",
              "      <td>1</td>\n",
              "      <td>PAYMENT</td>\n",
              "      <td>1864.28</td>\n",
              "      <td>C1666544295</td>\n",
              "      <td>21249.00</td>\n",
              "      <td>19384.72</td>\n",
              "      <td>M2044282225</td>\n",
              "      <td>0.0</td>\n",
              "      <td>0.00</td>\n",
              "      <td>0</td>\n",
              "      <td>0</td>\n",
              "    </tr>\n",
              "    <tr>\n",
              "      <th>2</th>\n",
              "      <td>1</td>\n",
              "      <td>TRANSFER</td>\n",
              "      <td>181.00</td>\n",
              "      <td>C1305486145</td>\n",
              "      <td>181.00</td>\n",
              "      <td>0.00</td>\n",
              "      <td>C553264065</td>\n",
              "      <td>0.0</td>\n",
              "      <td>0.00</td>\n",
              "      <td>1</td>\n",
              "      <td>0</td>\n",
              "    </tr>\n",
              "    <tr>\n",
              "      <th>3</th>\n",
              "      <td>1</td>\n",
              "      <td>CASH_OUT</td>\n",
              "      <td>181.00</td>\n",
              "      <td>C840083671</td>\n",
              "      <td>181.00</td>\n",
              "      <td>0.00</td>\n",
              "      <td>C38997010</td>\n",
              "      <td>21182.0</td>\n",
              "      <td>0.00</td>\n",
              "      <td>1</td>\n",
              "      <td>0</td>\n",
              "    </tr>\n",
              "    <tr>\n",
              "      <th>4</th>\n",
              "      <td>1</td>\n",
              "      <td>PAYMENT</td>\n",
              "      <td>11668.14</td>\n",
              "      <td>C2048537720</td>\n",
              "      <td>41554.00</td>\n",
              "      <td>29885.86</td>\n",
              "      <td>M1230701703</td>\n",
              "      <td>0.0</td>\n",
              "      <td>0.00</td>\n",
              "      <td>0</td>\n",
              "      <td>0</td>\n",
              "    </tr>\n",
              "    <tr>\n",
              "      <th>5</th>\n",
              "      <td>1</td>\n",
              "      <td>PAYMENT</td>\n",
              "      <td>7817.71</td>\n",
              "      <td>C90045638</td>\n",
              "      <td>53860.00</td>\n",
              "      <td>46042.29</td>\n",
              "      <td>M573487274</td>\n",
              "      <td>0.0</td>\n",
              "      <td>0.00</td>\n",
              "      <td>0</td>\n",
              "      <td>0</td>\n",
              "    </tr>\n",
              "    <tr>\n",
              "      <th>6</th>\n",
              "      <td>1</td>\n",
              "      <td>PAYMENT</td>\n",
              "      <td>7107.77</td>\n",
              "      <td>C154988899</td>\n",
              "      <td>183195.00</td>\n",
              "      <td>176087.23</td>\n",
              "      <td>M408069119</td>\n",
              "      <td>0.0</td>\n",
              "      <td>0.00</td>\n",
              "      <td>0</td>\n",
              "      <td>0</td>\n",
              "    </tr>\n",
              "    <tr>\n",
              "      <th>7</th>\n",
              "      <td>1</td>\n",
              "      <td>PAYMENT</td>\n",
              "      <td>7861.64</td>\n",
              "      <td>C1912850431</td>\n",
              "      <td>176087.23</td>\n",
              "      <td>168225.59</td>\n",
              "      <td>M633326333</td>\n",
              "      <td>0.0</td>\n",
              "      <td>0.00</td>\n",
              "      <td>0</td>\n",
              "      <td>0</td>\n",
              "    </tr>\n",
              "    <tr>\n",
              "      <th>8</th>\n",
              "      <td>1</td>\n",
              "      <td>PAYMENT</td>\n",
              "      <td>4024.36</td>\n",
              "      <td>C1265012928</td>\n",
              "      <td>2671.00</td>\n",
              "      <td>0.00</td>\n",
              "      <td>M1176932104</td>\n",
              "      <td>0.0</td>\n",
              "      <td>0.00</td>\n",
              "      <td>0</td>\n",
              "      <td>0</td>\n",
              "    </tr>\n",
              "    <tr>\n",
              "      <th>9</th>\n",
              "      <td>1</td>\n",
              "      <td>DEBIT</td>\n",
              "      <td>5337.77</td>\n",
              "      <td>C712410124</td>\n",
              "      <td>41720.00</td>\n",
              "      <td>36382.23</td>\n",
              "      <td>C195600860</td>\n",
              "      <td>41898.0</td>\n",
              "      <td>40348.79</td>\n",
              "      <td>0</td>\n",
              "      <td>0</td>\n",
              "    </tr>\n",
              "  </tbody>\n",
              "</table>\n",
              "</div>"
            ],
            "text/plain": [
              "   step      type    amount     nameOrig  oldbalanceOrg  newbalanceOrig  \\\n",
              "0     1   PAYMENT   9839.64  C1231006815      170136.00       160296.36   \n",
              "1     1   PAYMENT   1864.28  C1666544295       21249.00        19384.72   \n",
              "2     1  TRANSFER    181.00  C1305486145         181.00            0.00   \n",
              "3     1  CASH_OUT    181.00   C840083671         181.00            0.00   \n",
              "4     1   PAYMENT  11668.14  C2048537720       41554.00        29885.86   \n",
              "5     1   PAYMENT   7817.71    C90045638       53860.00        46042.29   \n",
              "6     1   PAYMENT   7107.77   C154988899      183195.00       176087.23   \n",
              "7     1   PAYMENT   7861.64  C1912850431      176087.23       168225.59   \n",
              "8     1   PAYMENT   4024.36  C1265012928        2671.00            0.00   \n",
              "9     1     DEBIT   5337.77   C712410124       41720.00        36382.23   \n",
              "\n",
              "      nameDest  oldbalanceDest  newbalanceDest  isFraud  isFlaggedFraud  \n",
              "0  M1979787155             0.0            0.00        0               0  \n",
              "1  M2044282225             0.0            0.00        0               0  \n",
              "2   C553264065             0.0            0.00        1               0  \n",
              "3    C38997010         21182.0            0.00        1               0  \n",
              "4  M1230701703             0.0            0.00        0               0  \n",
              "5   M573487274             0.0            0.00        0               0  \n",
              "6   M408069119             0.0            0.00        0               0  \n",
              "7   M633326333             0.0            0.00        0               0  \n",
              "8  M1176932104             0.0            0.00        0               0  \n",
              "9   C195600860         41898.0        40348.79        0               0  "
            ]
          },
          "metadata": {
            "tags": []
          },
          "execution_count": 17
        }
      ]
    },
    {
      "cell_type": "code",
      "metadata": {
        "id": "UCXLiRP7lkvQ",
        "colab_type": "code",
        "colab": {
          "base_uri": "https://localhost:8080/",
          "height": 301
        },
        "outputId": "4151549d-8a10-4cf5-a396-b773a1b09a64"
      },
      "source": [
        "fin_df.info()"
      ],
      "execution_count": null,
      "outputs": [
        {
          "output_type": "stream",
          "text": [
            "<class 'pandas.core.frame.DataFrame'>\n",
            "RangeIndex: 6362620 entries, 0 to 6362619\n",
            "Data columns (total 11 columns):\n",
            "step              int64\n",
            "type              object\n",
            "amount            float64\n",
            "nameOrig          object\n",
            "oldbalanceOrg     float64\n",
            "newbalanceOrig    float64\n",
            "nameDest          object\n",
            "oldbalanceDest    float64\n",
            "newbalanceDest    float64\n",
            "isFraud           int64\n",
            "isFlaggedFraud    int64\n",
            "dtypes: float64(5), int64(3), object(3)\n",
            "memory usage: 534.0+ MB\n"
          ],
          "name": "stdout"
        }
      ]
    },
    {
      "cell_type": "code",
      "metadata": {
        "id": "nxlA4jLwlk7p",
        "colab_type": "code",
        "colab": {
          "base_uri": "https://localhost:8080/",
          "height": 287
        },
        "outputId": "f2ec7cf3-37ca-4ceb-eb6e-9c10ec37ba21"
      },
      "source": [
        "fin_df.describe()"
      ],
      "execution_count": null,
      "outputs": [
        {
          "output_type": "execute_result",
          "data": {
            "text/html": [
              "<div>\n",
              "<style scoped>\n",
              "    .dataframe tbody tr th:only-of-type {\n",
              "        vertical-align: middle;\n",
              "    }\n",
              "\n",
              "    .dataframe tbody tr th {\n",
              "        vertical-align: top;\n",
              "    }\n",
              "\n",
              "    .dataframe thead th {\n",
              "        text-align: right;\n",
              "    }\n",
              "</style>\n",
              "<table border=\"1\" class=\"dataframe\">\n",
              "  <thead>\n",
              "    <tr style=\"text-align: right;\">\n",
              "      <th></th>\n",
              "      <th>step</th>\n",
              "      <th>amount</th>\n",
              "      <th>oldbalanceOrg</th>\n",
              "      <th>newbalanceOrig</th>\n",
              "      <th>oldbalanceDest</th>\n",
              "      <th>newbalanceDest</th>\n",
              "      <th>isFraud</th>\n",
              "      <th>isFlaggedFraud</th>\n",
              "    </tr>\n",
              "  </thead>\n",
              "  <tbody>\n",
              "    <tr>\n",
              "      <th>count</th>\n",
              "      <td>6.362620e+06</td>\n",
              "      <td>6.362620e+06</td>\n",
              "      <td>6.362620e+06</td>\n",
              "      <td>6.362620e+06</td>\n",
              "      <td>6.362620e+06</td>\n",
              "      <td>6.362620e+06</td>\n",
              "      <td>6.362620e+06</td>\n",
              "      <td>6.362620e+06</td>\n",
              "    </tr>\n",
              "    <tr>\n",
              "      <th>mean</th>\n",
              "      <td>2.433972e+02</td>\n",
              "      <td>1.798619e+05</td>\n",
              "      <td>8.338831e+05</td>\n",
              "      <td>8.551137e+05</td>\n",
              "      <td>1.100702e+06</td>\n",
              "      <td>1.224996e+06</td>\n",
              "      <td>1.290820e-03</td>\n",
              "      <td>2.514687e-06</td>\n",
              "    </tr>\n",
              "    <tr>\n",
              "      <th>std</th>\n",
              "      <td>1.423320e+02</td>\n",
              "      <td>6.038582e+05</td>\n",
              "      <td>2.888243e+06</td>\n",
              "      <td>2.924049e+06</td>\n",
              "      <td>3.399180e+06</td>\n",
              "      <td>3.674129e+06</td>\n",
              "      <td>3.590480e-02</td>\n",
              "      <td>1.585775e-03</td>\n",
              "    </tr>\n",
              "    <tr>\n",
              "      <th>min</th>\n",
              "      <td>1.000000e+00</td>\n",
              "      <td>0.000000e+00</td>\n",
              "      <td>0.000000e+00</td>\n",
              "      <td>0.000000e+00</td>\n",
              "      <td>0.000000e+00</td>\n",
              "      <td>0.000000e+00</td>\n",
              "      <td>0.000000e+00</td>\n",
              "      <td>0.000000e+00</td>\n",
              "    </tr>\n",
              "    <tr>\n",
              "      <th>25%</th>\n",
              "      <td>1.560000e+02</td>\n",
              "      <td>1.338957e+04</td>\n",
              "      <td>0.000000e+00</td>\n",
              "      <td>0.000000e+00</td>\n",
              "      <td>0.000000e+00</td>\n",
              "      <td>0.000000e+00</td>\n",
              "      <td>0.000000e+00</td>\n",
              "      <td>0.000000e+00</td>\n",
              "    </tr>\n",
              "    <tr>\n",
              "      <th>50%</th>\n",
              "      <td>2.390000e+02</td>\n",
              "      <td>7.487194e+04</td>\n",
              "      <td>1.420800e+04</td>\n",
              "      <td>0.000000e+00</td>\n",
              "      <td>1.327057e+05</td>\n",
              "      <td>2.146614e+05</td>\n",
              "      <td>0.000000e+00</td>\n",
              "      <td>0.000000e+00</td>\n",
              "    </tr>\n",
              "    <tr>\n",
              "      <th>75%</th>\n",
              "      <td>3.350000e+02</td>\n",
              "      <td>2.087215e+05</td>\n",
              "      <td>1.073152e+05</td>\n",
              "      <td>1.442584e+05</td>\n",
              "      <td>9.430367e+05</td>\n",
              "      <td>1.111909e+06</td>\n",
              "      <td>0.000000e+00</td>\n",
              "      <td>0.000000e+00</td>\n",
              "    </tr>\n",
              "    <tr>\n",
              "      <th>max</th>\n",
              "      <td>7.430000e+02</td>\n",
              "      <td>9.244552e+07</td>\n",
              "      <td>5.958504e+07</td>\n",
              "      <td>4.958504e+07</td>\n",
              "      <td>3.560159e+08</td>\n",
              "      <td>3.561793e+08</td>\n",
              "      <td>1.000000e+00</td>\n",
              "      <td>1.000000e+00</td>\n",
              "    </tr>\n",
              "  </tbody>\n",
              "</table>\n",
              "</div>"
            ],
            "text/plain": [
              "               step        amount  oldbalanceOrg  newbalanceOrig  \\\n",
              "count  6.362620e+06  6.362620e+06   6.362620e+06    6.362620e+06   \n",
              "mean   2.433972e+02  1.798619e+05   8.338831e+05    8.551137e+05   \n",
              "std    1.423320e+02  6.038582e+05   2.888243e+06    2.924049e+06   \n",
              "min    1.000000e+00  0.000000e+00   0.000000e+00    0.000000e+00   \n",
              "25%    1.560000e+02  1.338957e+04   0.000000e+00    0.000000e+00   \n",
              "50%    2.390000e+02  7.487194e+04   1.420800e+04    0.000000e+00   \n",
              "75%    3.350000e+02  2.087215e+05   1.073152e+05    1.442584e+05   \n",
              "max    7.430000e+02  9.244552e+07   5.958504e+07    4.958504e+07   \n",
              "\n",
              "       oldbalanceDest  newbalanceDest       isFraud  isFlaggedFraud  \n",
              "count    6.362620e+06    6.362620e+06  6.362620e+06    6.362620e+06  \n",
              "mean     1.100702e+06    1.224996e+06  1.290820e-03    2.514687e-06  \n",
              "std      3.399180e+06    3.674129e+06  3.590480e-02    1.585775e-03  \n",
              "min      0.000000e+00    0.000000e+00  0.000000e+00    0.000000e+00  \n",
              "25%      0.000000e+00    0.000000e+00  0.000000e+00    0.000000e+00  \n",
              "50%      1.327057e+05    2.146614e+05  0.000000e+00    0.000000e+00  \n",
              "75%      9.430367e+05    1.111909e+06  0.000000e+00    0.000000e+00  \n",
              "max      3.560159e+08    3.561793e+08  1.000000e+00    1.000000e+00  "
            ]
          },
          "metadata": {
            "tags": []
          },
          "execution_count": 19
        }
      ]
    },
    {
      "cell_type": "code",
      "metadata": {
        "id": "nT7bs1Uhi9De",
        "colab_type": "code",
        "colab": {
          "base_uri": "https://localhost:8080/",
          "height": 347
        },
        "outputId": "16d65619-2993-4c30-ab58-efc9df2177af"
      },
      "source": [
        "fin_df.describe(percentiles=[0.25, 0.5, 0.75, 0.9, 0.99])"
      ],
      "execution_count": null,
      "outputs": [
        {
          "output_type": "execute_result",
          "data": {
            "text/html": [
              "<div>\n",
              "<style scoped>\n",
              "    .dataframe tbody tr th:only-of-type {\n",
              "        vertical-align: middle;\n",
              "    }\n",
              "\n",
              "    .dataframe tbody tr th {\n",
              "        vertical-align: top;\n",
              "    }\n",
              "\n",
              "    .dataframe thead th {\n",
              "        text-align: right;\n",
              "    }\n",
              "</style>\n",
              "<table border=\"1\" class=\"dataframe\">\n",
              "  <thead>\n",
              "    <tr style=\"text-align: right;\">\n",
              "      <th></th>\n",
              "      <th>step</th>\n",
              "      <th>amount</th>\n",
              "      <th>oldbalanceOrg</th>\n",
              "      <th>newbalanceOrig</th>\n",
              "      <th>oldbalanceDest</th>\n",
              "      <th>newbalanceDest</th>\n",
              "      <th>isFraud</th>\n",
              "      <th>isFlaggedFraud</th>\n",
              "    </tr>\n",
              "  </thead>\n",
              "  <tbody>\n",
              "    <tr>\n",
              "      <th>count</th>\n",
              "      <td>6.362620e+06</td>\n",
              "      <td>6.362620e+06</td>\n",
              "      <td>6.362620e+06</td>\n",
              "      <td>6.362620e+06</td>\n",
              "      <td>6.362620e+06</td>\n",
              "      <td>6.362620e+06</td>\n",
              "      <td>6.362620e+06</td>\n",
              "      <td>6.362620e+06</td>\n",
              "    </tr>\n",
              "    <tr>\n",
              "      <th>mean</th>\n",
              "      <td>2.433972e+02</td>\n",
              "      <td>1.798619e+05</td>\n",
              "      <td>8.338831e+05</td>\n",
              "      <td>8.551137e+05</td>\n",
              "      <td>1.100702e+06</td>\n",
              "      <td>1.224996e+06</td>\n",
              "      <td>1.290820e-03</td>\n",
              "      <td>2.514687e-06</td>\n",
              "    </tr>\n",
              "    <tr>\n",
              "      <th>std</th>\n",
              "      <td>1.423320e+02</td>\n",
              "      <td>6.038582e+05</td>\n",
              "      <td>2.888243e+06</td>\n",
              "      <td>2.924049e+06</td>\n",
              "      <td>3.399180e+06</td>\n",
              "      <td>3.674129e+06</td>\n",
              "      <td>3.590480e-02</td>\n",
              "      <td>1.585775e-03</td>\n",
              "    </tr>\n",
              "    <tr>\n",
              "      <th>min</th>\n",
              "      <td>1.000000e+00</td>\n",
              "      <td>0.000000e+00</td>\n",
              "      <td>0.000000e+00</td>\n",
              "      <td>0.000000e+00</td>\n",
              "      <td>0.000000e+00</td>\n",
              "      <td>0.000000e+00</td>\n",
              "      <td>0.000000e+00</td>\n",
              "      <td>0.000000e+00</td>\n",
              "    </tr>\n",
              "    <tr>\n",
              "      <th>25%</th>\n",
              "      <td>1.560000e+02</td>\n",
              "      <td>1.338957e+04</td>\n",
              "      <td>0.000000e+00</td>\n",
              "      <td>0.000000e+00</td>\n",
              "      <td>0.000000e+00</td>\n",
              "      <td>0.000000e+00</td>\n",
              "      <td>0.000000e+00</td>\n",
              "      <td>0.000000e+00</td>\n",
              "    </tr>\n",
              "    <tr>\n",
              "      <th>50%</th>\n",
              "      <td>2.390000e+02</td>\n",
              "      <td>7.487194e+04</td>\n",
              "      <td>1.420800e+04</td>\n",
              "      <td>0.000000e+00</td>\n",
              "      <td>1.327057e+05</td>\n",
              "      <td>2.146614e+05</td>\n",
              "      <td>0.000000e+00</td>\n",
              "      <td>0.000000e+00</td>\n",
              "    </tr>\n",
              "    <tr>\n",
              "      <th>75%</th>\n",
              "      <td>3.350000e+02</td>\n",
              "      <td>2.087215e+05</td>\n",
              "      <td>1.073152e+05</td>\n",
              "      <td>1.442584e+05</td>\n",
              "      <td>9.430367e+05</td>\n",
              "      <td>1.111909e+06</td>\n",
              "      <td>0.000000e+00</td>\n",
              "      <td>0.000000e+00</td>\n",
              "    </tr>\n",
              "    <tr>\n",
              "      <th>90%</th>\n",
              "      <td>3.990000e+02</td>\n",
              "      <td>3.654233e+05</td>\n",
              "      <td>1.822508e+06</td>\n",
              "      <td>1.970345e+06</td>\n",
              "      <td>2.914267e+06</td>\n",
              "      <td>3.194870e+06</td>\n",
              "      <td>0.000000e+00</td>\n",
              "      <td>0.000000e+00</td>\n",
              "    </tr>\n",
              "    <tr>\n",
              "      <th>99%</th>\n",
              "      <td>6.810000e+02</td>\n",
              "      <td>1.615979e+06</td>\n",
              "      <td>1.602726e+07</td>\n",
              "      <td>1.617616e+07</td>\n",
              "      <td>1.237182e+07</td>\n",
              "      <td>1.313787e+07</td>\n",
              "      <td>0.000000e+00</td>\n",
              "      <td>0.000000e+00</td>\n",
              "    </tr>\n",
              "    <tr>\n",
              "      <th>max</th>\n",
              "      <td>7.430000e+02</td>\n",
              "      <td>9.244552e+07</td>\n",
              "      <td>5.958504e+07</td>\n",
              "      <td>4.958504e+07</td>\n",
              "      <td>3.560159e+08</td>\n",
              "      <td>3.561793e+08</td>\n",
              "      <td>1.000000e+00</td>\n",
              "      <td>1.000000e+00</td>\n",
              "    </tr>\n",
              "  </tbody>\n",
              "</table>\n",
              "</div>"
            ],
            "text/plain": [
              "               step        amount  oldbalanceOrg  newbalanceOrig  \\\n",
              "count  6.362620e+06  6.362620e+06   6.362620e+06    6.362620e+06   \n",
              "mean   2.433972e+02  1.798619e+05   8.338831e+05    8.551137e+05   \n",
              "std    1.423320e+02  6.038582e+05   2.888243e+06    2.924049e+06   \n",
              "min    1.000000e+00  0.000000e+00   0.000000e+00    0.000000e+00   \n",
              "25%    1.560000e+02  1.338957e+04   0.000000e+00    0.000000e+00   \n",
              "50%    2.390000e+02  7.487194e+04   1.420800e+04    0.000000e+00   \n",
              "75%    3.350000e+02  2.087215e+05   1.073152e+05    1.442584e+05   \n",
              "90%    3.990000e+02  3.654233e+05   1.822508e+06    1.970345e+06   \n",
              "99%    6.810000e+02  1.615979e+06   1.602726e+07    1.617616e+07   \n",
              "max    7.430000e+02  9.244552e+07   5.958504e+07    4.958504e+07   \n",
              "\n",
              "       oldbalanceDest  newbalanceDest       isFraud  isFlaggedFraud  \n",
              "count    6.362620e+06    6.362620e+06  6.362620e+06    6.362620e+06  \n",
              "mean     1.100702e+06    1.224996e+06  1.290820e-03    2.514687e-06  \n",
              "std      3.399180e+06    3.674129e+06  3.590480e-02    1.585775e-03  \n",
              "min      0.000000e+00    0.000000e+00  0.000000e+00    0.000000e+00  \n",
              "25%      0.000000e+00    0.000000e+00  0.000000e+00    0.000000e+00  \n",
              "50%      1.327057e+05    2.146614e+05  0.000000e+00    0.000000e+00  \n",
              "75%      9.430367e+05    1.111909e+06  0.000000e+00    0.000000e+00  \n",
              "90%      2.914267e+06    3.194870e+06  0.000000e+00    0.000000e+00  \n",
              "99%      1.237182e+07    1.313787e+07  0.000000e+00    0.000000e+00  \n",
              "max      3.560159e+08    3.561793e+08  1.000000e+00    1.000000e+00  "
            ]
          },
          "metadata": {
            "tags": []
          },
          "execution_count": 20
        }
      ]
    },
    {
      "cell_type": "code",
      "metadata": {
        "id": "PVJNGx1jLCya",
        "colab_type": "code",
        "colab": {
          "base_uri": "https://localhost:8080/",
          "height": 52
        },
        "outputId": "d0860be0-c9ea-4e5a-d623-c67ac8ec595d"
      },
      "source": [
        "fin_df.type.unique()"
      ],
      "execution_count": null,
      "outputs": [
        {
          "output_type": "execute_result",
          "data": {
            "text/plain": [
              "array(['PAYMENT', 'TRANSFER', 'CASH_OUT', 'DEBIT', 'CASH_IN'],\n",
              "      dtype=object)"
            ]
          },
          "metadata": {
            "tags": []
          },
          "execution_count": 8
        }
      ]
    },
    {
      "cell_type": "code",
      "metadata": {
        "id": "BRA-MAcTIGHL",
        "colab_type": "code",
        "colab": {
          "base_uri": "https://localhost:8080/",
          "height": 123
        },
        "outputId": "ecbbda89-6fc3-4dc8-d4c8-1df4065c0fb8"
      },
      "source": [
        "fin_df.type.value_counts()"
      ],
      "execution_count": null,
      "outputs": [
        {
          "output_type": "execute_result",
          "data": {
            "text/plain": [
              "CASH_OUT    2237500\n",
              "PAYMENT     2151495\n",
              "CASH_IN     1399284\n",
              "TRANSFER     532909\n",
              "DEBIT         41432\n",
              "Name: type, dtype: int64"
            ]
          },
          "metadata": {
            "tags": []
          },
          "execution_count": 6
        }
      ]
    },
    {
      "cell_type": "code",
      "metadata": {
        "id": "UX6BTUI3x96r",
        "colab_type": "code",
        "colab": {}
      },
      "source": [
        "def checking_na(df):\n",
        "    try:\n",
        "        if (isinstance(df, pd.DataFrame)):\n",
        "            df_na_bool = pd.concat([df.isnull().any(), df.isnull().sum(), (df.isnull().sum()/df.shape[0])*100],\n",
        "                                   axis=1, keys=['df_bool', 'df_amt', 'missing_ratio_percent'])\n",
        "            df_na_bool = df_na_bool.loc[df_na_bool['df_bool'] == True]\n",
        "            return df_na_bool\n",
        "        else:\n",
        "            print(\"{}: The input is not panda DataFrame\".format(now()))\n",
        "\n",
        "    except (UnboundLocalError, RuntimeError):\n",
        "        print(\"{}: Something is wrong\".format(now()))"
      ],
      "execution_count": null,
      "outputs": []
    },
    {
      "cell_type": "code",
      "metadata": {
        "id": "ki39pPiYyi4p",
        "colab_type": "code",
        "colab": {
          "base_uri": "https://localhost:8080/",
          "height": 70
        },
        "outputId": "2c2ab27d-ee43-4eda-ab32-b0cb53f0d0c8"
      },
      "source": [
        "print(checking_na(fin_df))"
      ],
      "execution_count": null,
      "outputs": [
        {
          "output_type": "stream",
          "text": [
            "Empty DataFrame\n",
            "Columns: [df_bool, df_amt, missing_ratio_percent]\n",
            "Index: []\n"
          ],
          "name": "stdout"
        }
      ]
    },
    {
      "cell_type": "code",
      "metadata": {
        "id": "igyrKs3TzZ7g",
        "colab_type": "code",
        "colab": {
          "base_uri": "https://localhost:8080/",
          "height": 34
        },
        "outputId": "1b2cf480-d6b3-44ae-ec18-d676d0538bc3"
      },
      "source": [
        "fin_df.isnull().values.any()"
      ],
      "execution_count": null,
      "outputs": [
        {
          "output_type": "execute_result",
          "data": {
            "text/plain": [
              "False"
            ]
          },
          "metadata": {
            "tags": []
          },
          "execution_count": 20
        }
      ]
    },
    {
      "cell_type": "code",
      "metadata": {
        "id": "d-twU_F43qCR",
        "colab_type": "code",
        "colab": {}
      },
      "source": [
        ""
      ],
      "execution_count": null,
      "outputs": []
    },
    {
      "cell_type": "code",
      "metadata": {
        "id": "CVcZd1GWzak6",
        "colab_type": "code",
        "colab": {}
      },
      "source": [
        "fin_df.isnull()"
      ],
      "execution_count": null,
      "outputs": []
    },
    {
      "cell_type": "code",
      "metadata": {
        "id": "fnxi-gzm2KJb",
        "colab_type": "code",
        "colab": {
          "base_uri": "https://localhost:8080/",
          "height": 34
        },
        "outputId": "cb966dbc-da68-4f96-ce22-d9dafbe781f0"
      },
      "source": [
        "fin_df['isFlaggedFraud'].sum()"
      ],
      "execution_count": null,
      "outputs": [
        {
          "output_type": "execute_result",
          "data": {
            "text/plain": [
              "16"
            ]
          },
          "metadata": {
            "tags": []
          },
          "execution_count": 21
        }
      ]
    },
    {
      "cell_type": "code",
      "metadata": {
        "id": "-wDjnpH-9aLB",
        "colab_type": "code",
        "colab": {}
      },
      "source": [
        ""
      ],
      "execution_count": null,
      "outputs": []
    },
    {
      "cell_type": "code",
      "metadata": {
        "id": "tmlMVg8AMmJS",
        "colab_type": "code",
        "colab": {}
      },
      "source": [
        "finn1=fin_df['isFlaggedFraud']==1"
      ],
      "execution_count": null,
      "outputs": []
    },
    {
      "cell_type": "code",
      "metadata": {
        "id": "kRNTVSdDM7Ut",
        "colab_type": "code",
        "colab": {}
      },
      "source": [
        "finn1"
      ],
      "execution_count": null,
      "outputs": []
    },
    {
      "cell_type": "code",
      "metadata": {
        "id": "b0kHrrbZNEP2",
        "colab_type": "code",
        "colab": {
          "base_uri": "https://localhost:8080/",
          "height": 34
        },
        "outputId": "a4e87d03-477e-40f3-bd3e-237743842e9c"
      },
      "source": [
        "len(fin_df[fin_df.step == 743])"
      ],
      "execution_count": null,
      "outputs": [
        {
          "output_type": "execute_result",
          "data": {
            "text/plain": [
              "8"
            ]
          },
          "metadata": {
            "tags": []
          },
          "execution_count": 19
        }
      ]
    },
    {
      "cell_type": "code",
      "metadata": {
        "id": "zJYzFUn2LbR4",
        "colab_type": "code",
        "colab": {}
      },
      "source": [
        "fin_df['isFlaggedFraud']=1"
      ],
      "execution_count": null,
      "outputs": []
    },
    {
      "cell_type": "code",
      "metadata": {
        "id": "umWVlji_UTKB",
        "colab_type": "code",
        "colab": {
          "base_uri": "https://localhost:8080/",
          "height": 527
        },
        "outputId": "ae17d02a-f675-4798-ba89-8cef4e55cec2"
      },
      "source": [
        "fin_df[fin_df.isFlaggedFraud == 1]"
      ],
      "execution_count": null,
      "outputs": [
        {
          "output_type": "execute_result",
          "data": {
            "text/html": [
              "<div>\n",
              "<style scoped>\n",
              "    .dataframe tbody tr th:only-of-type {\n",
              "        vertical-align: middle;\n",
              "    }\n",
              "\n",
              "    .dataframe tbody tr th {\n",
              "        vertical-align: top;\n",
              "    }\n",
              "\n",
              "    .dataframe thead th {\n",
              "        text-align: right;\n",
              "    }\n",
              "</style>\n",
              "<table border=\"1\" class=\"dataframe\">\n",
              "  <thead>\n",
              "    <tr style=\"text-align: right;\">\n",
              "      <th></th>\n",
              "      <th>step</th>\n",
              "      <th>type</th>\n",
              "      <th>amount</th>\n",
              "      <th>nameOrig</th>\n",
              "      <th>oldbalanceOrg</th>\n",
              "      <th>newbalanceOrig</th>\n",
              "      <th>nameDest</th>\n",
              "      <th>oldbalanceDest</th>\n",
              "      <th>newbalanceDest</th>\n",
              "      <th>isFraud</th>\n",
              "      <th>isFlaggedFraud</th>\n",
              "    </tr>\n",
              "  </thead>\n",
              "  <tbody>\n",
              "    <tr>\n",
              "      <th>2736446</th>\n",
              "      <td>212</td>\n",
              "      <td>TRANSFER</td>\n",
              "      <td>4953893.08</td>\n",
              "      <td>C728984460</td>\n",
              "      <td>4953893.08</td>\n",
              "      <td>4953893.08</td>\n",
              "      <td>C639921569</td>\n",
              "      <td>0.0</td>\n",
              "      <td>0.0</td>\n",
              "      <td>1</td>\n",
              "      <td>1</td>\n",
              "    </tr>\n",
              "    <tr>\n",
              "      <th>3247297</th>\n",
              "      <td>250</td>\n",
              "      <td>TRANSFER</td>\n",
              "      <td>1343002.08</td>\n",
              "      <td>C1100582606</td>\n",
              "      <td>1343002.08</td>\n",
              "      <td>1343002.08</td>\n",
              "      <td>C1147517658</td>\n",
              "      <td>0.0</td>\n",
              "      <td>0.0</td>\n",
              "      <td>1</td>\n",
              "      <td>1</td>\n",
              "    </tr>\n",
              "    <tr>\n",
              "      <th>3760288</th>\n",
              "      <td>279</td>\n",
              "      <td>TRANSFER</td>\n",
              "      <td>536624.41</td>\n",
              "      <td>C1035541766</td>\n",
              "      <td>536624.41</td>\n",
              "      <td>536624.41</td>\n",
              "      <td>C1100697970</td>\n",
              "      <td>0.0</td>\n",
              "      <td>0.0</td>\n",
              "      <td>1</td>\n",
              "      <td>1</td>\n",
              "    </tr>\n",
              "    <tr>\n",
              "      <th>5563713</th>\n",
              "      <td>387</td>\n",
              "      <td>TRANSFER</td>\n",
              "      <td>4892193.09</td>\n",
              "      <td>C908544136</td>\n",
              "      <td>4892193.09</td>\n",
              "      <td>4892193.09</td>\n",
              "      <td>C891140444</td>\n",
              "      <td>0.0</td>\n",
              "      <td>0.0</td>\n",
              "      <td>1</td>\n",
              "      <td>1</td>\n",
              "    </tr>\n",
              "    <tr>\n",
              "      <th>5996407</th>\n",
              "      <td>425</td>\n",
              "      <td>TRANSFER</td>\n",
              "      <td>10000000.00</td>\n",
              "      <td>C689608084</td>\n",
              "      <td>19585040.37</td>\n",
              "      <td>19585040.37</td>\n",
              "      <td>C1392803603</td>\n",
              "      <td>0.0</td>\n",
              "      <td>0.0</td>\n",
              "      <td>1</td>\n",
              "      <td>1</td>\n",
              "    </tr>\n",
              "    <tr>\n",
              "      <th>5996409</th>\n",
              "      <td>425</td>\n",
              "      <td>TRANSFER</td>\n",
              "      <td>9585040.37</td>\n",
              "      <td>C452586515</td>\n",
              "      <td>19585040.37</td>\n",
              "      <td>19585040.37</td>\n",
              "      <td>C1109166882</td>\n",
              "      <td>0.0</td>\n",
              "      <td>0.0</td>\n",
              "      <td>1</td>\n",
              "      <td>1</td>\n",
              "    </tr>\n",
              "    <tr>\n",
              "      <th>6168499</th>\n",
              "      <td>554</td>\n",
              "      <td>TRANSFER</td>\n",
              "      <td>3576297.10</td>\n",
              "      <td>C193696150</td>\n",
              "      <td>3576297.10</td>\n",
              "      <td>3576297.10</td>\n",
              "      <td>C484597480</td>\n",
              "      <td>0.0</td>\n",
              "      <td>0.0</td>\n",
              "      <td>1</td>\n",
              "      <td>1</td>\n",
              "    </tr>\n",
              "    <tr>\n",
              "      <th>6205439</th>\n",
              "      <td>586</td>\n",
              "      <td>TRANSFER</td>\n",
              "      <td>353874.22</td>\n",
              "      <td>C1684585475</td>\n",
              "      <td>353874.22</td>\n",
              "      <td>353874.22</td>\n",
              "      <td>C1770418982</td>\n",
              "      <td>0.0</td>\n",
              "      <td>0.0</td>\n",
              "      <td>1</td>\n",
              "      <td>1</td>\n",
              "    </tr>\n",
              "    <tr>\n",
              "      <th>6266413</th>\n",
              "      <td>617</td>\n",
              "      <td>TRANSFER</td>\n",
              "      <td>2542664.27</td>\n",
              "      <td>C786455622</td>\n",
              "      <td>2542664.27</td>\n",
              "      <td>2542664.27</td>\n",
              "      <td>C661958277</td>\n",
              "      <td>0.0</td>\n",
              "      <td>0.0</td>\n",
              "      <td>1</td>\n",
              "      <td>1</td>\n",
              "    </tr>\n",
              "    <tr>\n",
              "      <th>6281482</th>\n",
              "      <td>646</td>\n",
              "      <td>TRANSFER</td>\n",
              "      <td>10000000.00</td>\n",
              "      <td>C19004745</td>\n",
              "      <td>10399045.08</td>\n",
              "      <td>10399045.08</td>\n",
              "      <td>C1806199534</td>\n",
              "      <td>0.0</td>\n",
              "      <td>0.0</td>\n",
              "      <td>1</td>\n",
              "      <td>1</td>\n",
              "    </tr>\n",
              "    <tr>\n",
              "      <th>6281484</th>\n",
              "      <td>646</td>\n",
              "      <td>TRANSFER</td>\n",
              "      <td>399045.08</td>\n",
              "      <td>C724693370</td>\n",
              "      <td>10399045.08</td>\n",
              "      <td>10399045.08</td>\n",
              "      <td>C1909486199</td>\n",
              "      <td>0.0</td>\n",
              "      <td>0.0</td>\n",
              "      <td>1</td>\n",
              "      <td>1</td>\n",
              "    </tr>\n",
              "    <tr>\n",
              "      <th>6296014</th>\n",
              "      <td>671</td>\n",
              "      <td>TRANSFER</td>\n",
              "      <td>3441041.46</td>\n",
              "      <td>C917414431</td>\n",
              "      <td>3441041.46</td>\n",
              "      <td>3441041.46</td>\n",
              "      <td>C1082139865</td>\n",
              "      <td>0.0</td>\n",
              "      <td>0.0</td>\n",
              "      <td>1</td>\n",
              "      <td>1</td>\n",
              "    </tr>\n",
              "    <tr>\n",
              "      <th>6351225</th>\n",
              "      <td>702</td>\n",
              "      <td>TRANSFER</td>\n",
              "      <td>3171085.59</td>\n",
              "      <td>C1892216157</td>\n",
              "      <td>3171085.59</td>\n",
              "      <td>3171085.59</td>\n",
              "      <td>C1308068787</td>\n",
              "      <td>0.0</td>\n",
              "      <td>0.0</td>\n",
              "      <td>1</td>\n",
              "      <td>1</td>\n",
              "    </tr>\n",
              "    <tr>\n",
              "      <th>6362460</th>\n",
              "      <td>730</td>\n",
              "      <td>TRANSFER</td>\n",
              "      <td>10000000.00</td>\n",
              "      <td>C2140038573</td>\n",
              "      <td>17316255.05</td>\n",
              "      <td>17316255.05</td>\n",
              "      <td>C1395467927</td>\n",
              "      <td>0.0</td>\n",
              "      <td>0.0</td>\n",
              "      <td>1</td>\n",
              "      <td>1</td>\n",
              "    </tr>\n",
              "    <tr>\n",
              "      <th>6362462</th>\n",
              "      <td>730</td>\n",
              "      <td>TRANSFER</td>\n",
              "      <td>7316255.05</td>\n",
              "      <td>C1869569059</td>\n",
              "      <td>17316255.05</td>\n",
              "      <td>17316255.05</td>\n",
              "      <td>C1861208726</td>\n",
              "      <td>0.0</td>\n",
              "      <td>0.0</td>\n",
              "      <td>1</td>\n",
              "      <td>1</td>\n",
              "    </tr>\n",
              "    <tr>\n",
              "      <th>6362584</th>\n",
              "      <td>741</td>\n",
              "      <td>TRANSFER</td>\n",
              "      <td>5674547.89</td>\n",
              "      <td>C992223106</td>\n",
              "      <td>5674547.89</td>\n",
              "      <td>5674547.89</td>\n",
              "      <td>C1366804249</td>\n",
              "      <td>0.0</td>\n",
              "      <td>0.0</td>\n",
              "      <td>1</td>\n",
              "      <td>1</td>\n",
              "    </tr>\n",
              "  </tbody>\n",
              "</table>\n",
              "</div>"
            ],
            "text/plain": [
              "         step      type       amount     nameOrig  oldbalanceOrg  \\\n",
              "2736446   212  TRANSFER   4953893.08   C728984460     4953893.08   \n",
              "3247297   250  TRANSFER   1343002.08  C1100582606     1343002.08   \n",
              "3760288   279  TRANSFER    536624.41  C1035541766      536624.41   \n",
              "5563713   387  TRANSFER   4892193.09   C908544136     4892193.09   \n",
              "5996407   425  TRANSFER  10000000.00   C689608084    19585040.37   \n",
              "5996409   425  TRANSFER   9585040.37   C452586515    19585040.37   \n",
              "6168499   554  TRANSFER   3576297.10   C193696150     3576297.10   \n",
              "6205439   586  TRANSFER    353874.22  C1684585475      353874.22   \n",
              "6266413   617  TRANSFER   2542664.27   C786455622     2542664.27   \n",
              "6281482   646  TRANSFER  10000000.00    C19004745    10399045.08   \n",
              "6281484   646  TRANSFER    399045.08   C724693370    10399045.08   \n",
              "6296014   671  TRANSFER   3441041.46   C917414431     3441041.46   \n",
              "6351225   702  TRANSFER   3171085.59  C1892216157     3171085.59   \n",
              "6362460   730  TRANSFER  10000000.00  C2140038573    17316255.05   \n",
              "6362462   730  TRANSFER   7316255.05  C1869569059    17316255.05   \n",
              "6362584   741  TRANSFER   5674547.89   C992223106     5674547.89   \n",
              "\n",
              "         newbalanceOrig     nameDest  oldbalanceDest  newbalanceDest  isFraud  \\\n",
              "2736446      4953893.08   C639921569             0.0             0.0        1   \n",
              "3247297      1343002.08  C1147517658             0.0             0.0        1   \n",
              "3760288       536624.41  C1100697970             0.0             0.0        1   \n",
              "5563713      4892193.09   C891140444             0.0             0.0        1   \n",
              "5996407     19585040.37  C1392803603             0.0             0.0        1   \n",
              "5996409     19585040.37  C1109166882             0.0             0.0        1   \n",
              "6168499      3576297.10   C484597480             0.0             0.0        1   \n",
              "6205439       353874.22  C1770418982             0.0             0.0        1   \n",
              "6266413      2542664.27   C661958277             0.0             0.0        1   \n",
              "6281482     10399045.08  C1806199534             0.0             0.0        1   \n",
              "6281484     10399045.08  C1909486199             0.0             0.0        1   \n",
              "6296014      3441041.46  C1082139865             0.0             0.0        1   \n",
              "6351225      3171085.59  C1308068787             0.0             0.0        1   \n",
              "6362460     17316255.05  C1395467927             0.0             0.0        1   \n",
              "6362462     17316255.05  C1861208726             0.0             0.0        1   \n",
              "6362584      5674547.89  C1366804249             0.0             0.0        1   \n",
              "\n",
              "         isFlaggedFraud  \n",
              "2736446               1  \n",
              "3247297               1  \n",
              "3760288               1  \n",
              "5563713               1  \n",
              "5996407               1  \n",
              "5996409               1  \n",
              "6168499               1  \n",
              "6205439               1  \n",
              "6266413               1  \n",
              "6281482               1  \n",
              "6281484               1  \n",
              "6296014               1  \n",
              "6351225               1  \n",
              "6362460               1  \n",
              "6362462               1  \n",
              "6362584               1  "
            ]
          },
          "metadata": {
            "tags": []
          },
          "execution_count": 4
        }
      ]
    },
    {
      "cell_type": "code",
      "metadata": {
        "id": "qENEwVBKVMdL",
        "colab_type": "code",
        "colab": {}
      },
      "source": [
        "fin_df[fin_df.amount>200000]"
      ],
      "execution_count": null,
      "outputs": []
    },
    {
      "cell_type": "code",
      "metadata": {
        "id": "JtzpGaVSV1Es",
        "colab_type": "code",
        "colab": {
          "base_uri": "https://localhost:8080/",
          "height": 34
        },
        "outputId": "b51781eb-b698-4bbc-821d-10612f911322"
      },
      "source": [
        "fin_df[fin_df.amount > 1500000].shape"
      ],
      "execution_count": null,
      "outputs": [
        {
          "output_type": "execute_result",
          "data": {
            "text/plain": [
              "(71861, 11)"
            ]
          },
          "metadata": {
            "tags": []
          },
          "execution_count": 6
        }
      ]
    },
    {
      "cell_type": "code",
      "metadata": {
        "id": "w9hrhaPpWHUw",
        "colab_type": "code",
        "colab": {
          "base_uri": "https://localhost:8080/",
          "height": 77
        },
        "outputId": "b5d2bf7a-cf48-4367-c3b1-26f423ba1c4c"
      },
      "source": [
        "fin_df[fin_df.nameDest == 'C891140444']"
      ],
      "execution_count": null,
      "outputs": [
        {
          "output_type": "execute_result",
          "data": {
            "text/html": [
              "<div>\n",
              "<style scoped>\n",
              "    .dataframe tbody tr th:only-of-type {\n",
              "        vertical-align: middle;\n",
              "    }\n",
              "\n",
              "    .dataframe tbody tr th {\n",
              "        vertical-align: top;\n",
              "    }\n",
              "\n",
              "    .dataframe thead th {\n",
              "        text-align: right;\n",
              "    }\n",
              "</style>\n",
              "<table border=\"1\" class=\"dataframe\">\n",
              "  <thead>\n",
              "    <tr style=\"text-align: right;\">\n",
              "      <th></th>\n",
              "      <th>step</th>\n",
              "      <th>type</th>\n",
              "      <th>amount</th>\n",
              "      <th>nameOrig</th>\n",
              "      <th>oldbalanceOrg</th>\n",
              "      <th>newbalanceOrig</th>\n",
              "      <th>nameDest</th>\n",
              "      <th>oldbalanceDest</th>\n",
              "      <th>newbalanceDest</th>\n",
              "      <th>isFraud</th>\n",
              "      <th>isFlaggedFraud</th>\n",
              "    </tr>\n",
              "  </thead>\n",
              "  <tbody>\n",
              "    <tr>\n",
              "      <th>5563713</th>\n",
              "      <td>387</td>\n",
              "      <td>TRANSFER</td>\n",
              "      <td>4892193.09</td>\n",
              "      <td>C908544136</td>\n",
              "      <td>4892193.09</td>\n",
              "      <td>4892193.09</td>\n",
              "      <td>C891140444</td>\n",
              "      <td>0.0</td>\n",
              "      <td>0.0</td>\n",
              "      <td>1</td>\n",
              "      <td>1</td>\n",
              "    </tr>\n",
              "  </tbody>\n",
              "</table>\n",
              "</div>"
            ],
            "text/plain": [
              "         step      type      amount    nameOrig  oldbalanceOrg  \\\n",
              "5563713   387  TRANSFER  4892193.09  C908544136     4892193.09   \n",
              "\n",
              "         newbalanceOrig    nameDest  oldbalanceDest  newbalanceDest  isFraud  \\\n",
              "5563713      4892193.09  C891140444             0.0             0.0        1   \n",
              "\n",
              "         isFlaggedFraud  \n",
              "5563713               1  "
            ]
          },
          "metadata": {
            "tags": []
          },
          "execution_count": 8
        }
      ]
    },
    {
      "cell_type": "code",
      "metadata": {
        "id": "V4IwpXFIYRgw",
        "colab_type": "code",
        "colab": {
          "base_uri": "https://localhost:8080/",
          "height": 527
        },
        "outputId": "bb1d4996-a9ce-4648-b523-394ddd7470b7"
      },
      "source": [
        "fin_df[(fin_df.amount == 0) & (fin_df.isFraud == 1)]"
      ],
      "execution_count": null,
      "outputs": [
        {
          "output_type": "execute_result",
          "data": {
            "text/html": [
              "<div>\n",
              "<style scoped>\n",
              "    .dataframe tbody tr th:only-of-type {\n",
              "        vertical-align: middle;\n",
              "    }\n",
              "\n",
              "    .dataframe tbody tr th {\n",
              "        vertical-align: top;\n",
              "    }\n",
              "\n",
              "    .dataframe thead th {\n",
              "        text-align: right;\n",
              "    }\n",
              "</style>\n",
              "<table border=\"1\" class=\"dataframe\">\n",
              "  <thead>\n",
              "    <tr style=\"text-align: right;\">\n",
              "      <th></th>\n",
              "      <th>step</th>\n",
              "      <th>type</th>\n",
              "      <th>amount</th>\n",
              "      <th>nameOrig</th>\n",
              "      <th>oldbalanceOrg</th>\n",
              "      <th>newbalanceOrig</th>\n",
              "      <th>nameDest</th>\n",
              "      <th>oldbalanceDest</th>\n",
              "      <th>newbalanceDest</th>\n",
              "      <th>isFraud</th>\n",
              "      <th>isFlaggedFraud</th>\n",
              "    </tr>\n",
              "  </thead>\n",
              "  <tbody>\n",
              "    <tr>\n",
              "      <th>2736447</th>\n",
              "      <td>212</td>\n",
              "      <td>CASH_OUT</td>\n",
              "      <td>0.0</td>\n",
              "      <td>C1510987794</td>\n",
              "      <td>0.0</td>\n",
              "      <td>0.0</td>\n",
              "      <td>C1696624817</td>\n",
              "      <td>0.00</td>\n",
              "      <td>0.00</td>\n",
              "      <td>1</td>\n",
              "      <td>0</td>\n",
              "    </tr>\n",
              "    <tr>\n",
              "      <th>3247298</th>\n",
              "      <td>250</td>\n",
              "      <td>CASH_OUT</td>\n",
              "      <td>0.0</td>\n",
              "      <td>C521393327</td>\n",
              "      <td>0.0</td>\n",
              "      <td>0.0</td>\n",
              "      <td>C480398193</td>\n",
              "      <td>0.00</td>\n",
              "      <td>0.00</td>\n",
              "      <td>1</td>\n",
              "      <td>0</td>\n",
              "    </tr>\n",
              "    <tr>\n",
              "      <th>3760289</th>\n",
              "      <td>279</td>\n",
              "      <td>CASH_OUT</td>\n",
              "      <td>0.0</td>\n",
              "      <td>C539112012</td>\n",
              "      <td>0.0</td>\n",
              "      <td>0.0</td>\n",
              "      <td>C1106468520</td>\n",
              "      <td>538547.63</td>\n",
              "      <td>538547.63</td>\n",
              "      <td>1</td>\n",
              "      <td>0</td>\n",
              "    </tr>\n",
              "    <tr>\n",
              "      <th>5563714</th>\n",
              "      <td>387</td>\n",
              "      <td>CASH_OUT</td>\n",
              "      <td>0.0</td>\n",
              "      <td>C1294472700</td>\n",
              "      <td>0.0</td>\n",
              "      <td>0.0</td>\n",
              "      <td>C1325541393</td>\n",
              "      <td>7970766.57</td>\n",
              "      <td>7970766.57</td>\n",
              "      <td>1</td>\n",
              "      <td>0</td>\n",
              "    </tr>\n",
              "    <tr>\n",
              "      <th>5996408</th>\n",
              "      <td>425</td>\n",
              "      <td>CASH_OUT</td>\n",
              "      <td>0.0</td>\n",
              "      <td>C832555372</td>\n",
              "      <td>0.0</td>\n",
              "      <td>0.0</td>\n",
              "      <td>C1462759334</td>\n",
              "      <td>76759.90</td>\n",
              "      <td>76759.90</td>\n",
              "      <td>1</td>\n",
              "      <td>0</td>\n",
              "    </tr>\n",
              "    <tr>\n",
              "      <th>5996410</th>\n",
              "      <td>425</td>\n",
              "      <td>CASH_OUT</td>\n",
              "      <td>0.0</td>\n",
              "      <td>C69493310</td>\n",
              "      <td>0.0</td>\n",
              "      <td>0.0</td>\n",
              "      <td>C719711728</td>\n",
              "      <td>2921531.34</td>\n",
              "      <td>2921531.34</td>\n",
              "      <td>1</td>\n",
              "      <td>0</td>\n",
              "    </tr>\n",
              "    <tr>\n",
              "      <th>6168500</th>\n",
              "      <td>554</td>\n",
              "      <td>CASH_OUT</td>\n",
              "      <td>0.0</td>\n",
              "      <td>C10965156</td>\n",
              "      <td>0.0</td>\n",
              "      <td>0.0</td>\n",
              "      <td>C1493336195</td>\n",
              "      <td>230289.66</td>\n",
              "      <td>230289.66</td>\n",
              "      <td>1</td>\n",
              "      <td>0</td>\n",
              "    </tr>\n",
              "    <tr>\n",
              "      <th>6205440</th>\n",
              "      <td>586</td>\n",
              "      <td>CASH_OUT</td>\n",
              "      <td>0.0</td>\n",
              "      <td>C1303719003</td>\n",
              "      <td>0.0</td>\n",
              "      <td>0.0</td>\n",
              "      <td>C900608348</td>\n",
              "      <td>1328472.86</td>\n",
              "      <td>1328472.86</td>\n",
              "      <td>1</td>\n",
              "      <td>0</td>\n",
              "    </tr>\n",
              "    <tr>\n",
              "      <th>6266414</th>\n",
              "      <td>617</td>\n",
              "      <td>CASH_OUT</td>\n",
              "      <td>0.0</td>\n",
              "      <td>C1971175979</td>\n",
              "      <td>0.0</td>\n",
              "      <td>0.0</td>\n",
              "      <td>C1352345416</td>\n",
              "      <td>0.00</td>\n",
              "      <td>0.00</td>\n",
              "      <td>1</td>\n",
              "      <td>0</td>\n",
              "    </tr>\n",
              "    <tr>\n",
              "      <th>6281483</th>\n",
              "      <td>646</td>\n",
              "      <td>CASH_OUT</td>\n",
              "      <td>0.0</td>\n",
              "      <td>C2060908932</td>\n",
              "      <td>0.0</td>\n",
              "      <td>0.0</td>\n",
              "      <td>C1587892888</td>\n",
              "      <td>0.00</td>\n",
              "      <td>0.00</td>\n",
              "      <td>1</td>\n",
              "      <td>0</td>\n",
              "    </tr>\n",
              "    <tr>\n",
              "      <th>6281485</th>\n",
              "      <td>646</td>\n",
              "      <td>CASH_OUT</td>\n",
              "      <td>0.0</td>\n",
              "      <td>C1997645312</td>\n",
              "      <td>0.0</td>\n",
              "      <td>0.0</td>\n",
              "      <td>C601248796</td>\n",
              "      <td>0.00</td>\n",
              "      <td>0.00</td>\n",
              "      <td>1</td>\n",
              "      <td>0</td>\n",
              "    </tr>\n",
              "    <tr>\n",
              "      <th>6296015</th>\n",
              "      <td>671</td>\n",
              "      <td>CASH_OUT</td>\n",
              "      <td>0.0</td>\n",
              "      <td>C1960007029</td>\n",
              "      <td>0.0</td>\n",
              "      <td>0.0</td>\n",
              "      <td>C459118517</td>\n",
              "      <td>27938.72</td>\n",
              "      <td>27938.72</td>\n",
              "      <td>1</td>\n",
              "      <td>0</td>\n",
              "    </tr>\n",
              "    <tr>\n",
              "      <th>6351226</th>\n",
              "      <td>702</td>\n",
              "      <td>CASH_OUT</td>\n",
              "      <td>0.0</td>\n",
              "      <td>C1461113533</td>\n",
              "      <td>0.0</td>\n",
              "      <td>0.0</td>\n",
              "      <td>C1382150537</td>\n",
              "      <td>107777.02</td>\n",
              "      <td>107777.02</td>\n",
              "      <td>1</td>\n",
              "      <td>0</td>\n",
              "    </tr>\n",
              "    <tr>\n",
              "      <th>6362461</th>\n",
              "      <td>730</td>\n",
              "      <td>CASH_OUT</td>\n",
              "      <td>0.0</td>\n",
              "      <td>C729003789</td>\n",
              "      <td>0.0</td>\n",
              "      <td>0.0</td>\n",
              "      <td>C1388096959</td>\n",
              "      <td>1008609.53</td>\n",
              "      <td>1008609.53</td>\n",
              "      <td>1</td>\n",
              "      <td>0</td>\n",
              "    </tr>\n",
              "    <tr>\n",
              "      <th>6362463</th>\n",
              "      <td>730</td>\n",
              "      <td>CASH_OUT</td>\n",
              "      <td>0.0</td>\n",
              "      <td>C2088151490</td>\n",
              "      <td>0.0</td>\n",
              "      <td>0.0</td>\n",
              "      <td>C1156763710</td>\n",
              "      <td>0.00</td>\n",
              "      <td>0.00</td>\n",
              "      <td>1</td>\n",
              "      <td>0</td>\n",
              "    </tr>\n",
              "    <tr>\n",
              "      <th>6362585</th>\n",
              "      <td>741</td>\n",
              "      <td>CASH_OUT</td>\n",
              "      <td>0.0</td>\n",
              "      <td>C312737633</td>\n",
              "      <td>0.0</td>\n",
              "      <td>0.0</td>\n",
              "      <td>C1400061387</td>\n",
              "      <td>267522.87</td>\n",
              "      <td>267522.87</td>\n",
              "      <td>1</td>\n",
              "      <td>0</td>\n",
              "    </tr>\n",
              "  </tbody>\n",
              "</table>\n",
              "</div>"
            ],
            "text/plain": [
              "         step      type  amount     nameOrig  oldbalanceOrg  newbalanceOrig  \\\n",
              "2736447   212  CASH_OUT     0.0  C1510987794            0.0             0.0   \n",
              "3247298   250  CASH_OUT     0.0   C521393327            0.0             0.0   \n",
              "3760289   279  CASH_OUT     0.0   C539112012            0.0             0.0   \n",
              "5563714   387  CASH_OUT     0.0  C1294472700            0.0             0.0   \n",
              "5996408   425  CASH_OUT     0.0   C832555372            0.0             0.0   \n",
              "5996410   425  CASH_OUT     0.0    C69493310            0.0             0.0   \n",
              "6168500   554  CASH_OUT     0.0    C10965156            0.0             0.0   \n",
              "6205440   586  CASH_OUT     0.0  C1303719003            0.0             0.0   \n",
              "6266414   617  CASH_OUT     0.0  C1971175979            0.0             0.0   \n",
              "6281483   646  CASH_OUT     0.0  C2060908932            0.0             0.0   \n",
              "6281485   646  CASH_OUT     0.0  C1997645312            0.0             0.0   \n",
              "6296015   671  CASH_OUT     0.0  C1960007029            0.0             0.0   \n",
              "6351226   702  CASH_OUT     0.0  C1461113533            0.0             0.0   \n",
              "6362461   730  CASH_OUT     0.0   C729003789            0.0             0.0   \n",
              "6362463   730  CASH_OUT     0.0  C2088151490            0.0             0.0   \n",
              "6362585   741  CASH_OUT     0.0   C312737633            0.0             0.0   \n",
              "\n",
              "            nameDest  oldbalanceDest  newbalanceDest  isFraud  isFlaggedFraud  \n",
              "2736447  C1696624817            0.00            0.00        1               0  \n",
              "3247298   C480398193            0.00            0.00        1               0  \n",
              "3760289  C1106468520       538547.63       538547.63        1               0  \n",
              "5563714  C1325541393      7970766.57      7970766.57        1               0  \n",
              "5996408  C1462759334        76759.90        76759.90        1               0  \n",
              "5996410   C719711728      2921531.34      2921531.34        1               0  \n",
              "6168500  C1493336195       230289.66       230289.66        1               0  \n",
              "6205440   C900608348      1328472.86      1328472.86        1               0  \n",
              "6266414  C1352345416            0.00            0.00        1               0  \n",
              "6281483  C1587892888            0.00            0.00        1               0  \n",
              "6281485   C601248796            0.00            0.00        1               0  \n",
              "6296015   C459118517        27938.72        27938.72        1               0  \n",
              "6351226  C1382150537       107777.02       107777.02        1               0  \n",
              "6362461  C1388096959      1008609.53      1008609.53        1               0  \n",
              "6362463  C1156763710            0.00            0.00        1               0  \n",
              "6362585  C1400061387       267522.87       267522.87        1               0  "
            ]
          },
          "metadata": {
            "tags": []
          },
          "execution_count": 9
        }
      ]
    },
    {
      "cell_type": "code",
      "metadata": {
        "id": "5Fuu1Mdc68dt",
        "colab_type": "code",
        "colab": {
          "base_uri": "https://localhost:8080/",
          "height": 332
        },
        "outputId": "dd3c4fdc-5945-4c94-a5ff-02a16140361f"
      },
      "source": [
        "import seaborn as sns\n",
        "sns.countplot(fin_df['type'], hue = fin_df['isFraud'])  "
      ],
      "execution_count": null,
      "outputs": [
        {
          "output_type": "stream",
          "text": [
            "/usr/local/lib/python3.6/dist-packages/seaborn/categorical.py:1468: FutureWarning: remove_na is deprecated and is a private function. Do not use.\n",
            "  stat_data = remove_na(group_data[hue_mask])\n"
          ],
          "name": "stderr"
        },
        {
          "output_type": "execute_result",
          "data": {
            "text/plain": [
              "<matplotlib.axes._subplots.AxesSubplot at 0x7f02a6571b00>"
            ]
          },
          "metadata": {
            "tags": []
          },
          "execution_count": 27
        },
        {
          "output_type": "display_data",
          "data": {
            "image/png": "[encoded data removed]",
            "text/plain": [
              "<matplotlib.figure.Figure at 0x7f02a5260f28>"
            ]
          },
          "metadata": {
            "tags": []
          }
        }
      ]
    },
    {
      "cell_type": "code",
      "metadata": {
        "id": "HhkgNs6W_Tu-",
        "colab_type": "code",
        "colab": {
          "base_uri": "https://localhost:8080/",
          "height": 577
        },
        "outputId": "ed44725b-6ed6-4b5b-feaf-9c27f9d4220d"
      },
      "source": [
        "plt.figure(figsize=(12,8))\n",
        "b1=sns.boxplot(hue = 'isFraud', x = 'type', y = 'amount', data = fin_df)\n",
        "b1.set_xlabel('type', fontsize=20)\n",
        "b1.set_ylabel('amount',fontsize=20)\n",
        "b1.tick_params(labelsize=17)\n",
        "sns.plt.show()"
      ],
      "execution_count": null,
      "outputs": [
        {
          "output_type": "stream",
          "text": [
            "/usr/local/lib/python3.6/dist-packages/seaborn/categorical.py:482: FutureWarning: remove_na is deprecated and is a private function. Do not use.\n",
            "  box_data = remove_na(group_data[hue_mask])\n"
          ],
          "name": "stderr"
        },
        {
          "output_type": "display_data",
          "data": {
            "image/png": "[encoded data removed]",
            "text/plain": [
              "<matplotlib.figure.Figure at 0x7f02d59e8a58>"
            ]
          },
          "metadata": {
            "tags": []
          }
        }
      ]
    },
    {
      "cell_type": "code",
      "metadata": {
        "id": "Lf7l31ZK9KjG",
        "colab_type": "code",
        "colab": {
          "base_uri": "https://localhost:8080/",
          "height": 566
        },
        "outputId": "21e005ce-6d32-43da-d39c-2435ba6b9c39"
      },
      "source": [
        "plt.figure(figsize=(12,8))\n",
        "b1=sns.boxplot(hue = 'isFraud', x = 'type', y = 'amount', data = fin_df[fin_df.amount < 1e5])\n",
        "b1.set_xlabel('type', fontsize=20)\n",
        "b1.set_ylabel('amount',fontsize=20)\n",
        "b1.tick_params(labelsize=17)\n",
        "sns.plt.show()"
      ],
      "execution_count": null,
      "outputs": [
        {
          "output_type": "stream",
          "text": [
            "/usr/local/lib/python3.6/dist-packages/seaborn/categorical.py:482: FutureWarning: remove_na is deprecated and is a private function. Do not use.\n",
            "  box_data = remove_na(group_data[hue_mask])\n"
          ],
          "name": "stderr"
        },
        {
          "output_type": "display_data",
          "data": {
            "image/png": "[encoded data removed]",
            "text/plain": [
              "<matplotlib.figure.Figure at 0x7f02a29aa278>"
            ]
          },
          "metadata": {
            "tags": []
          }
        }
      ]
    },
    {
      "cell_type": "code",
      "metadata": {
        "id": "OdqQe4yA2NGJ",
        "colab_type": "code",
        "colab": {}
      },
      "source": [
        "# fin_df.drop(['nameOrig','nameDest','isFlaggedFraud'], axis = 1, inplace=True)"
      ],
      "execution_count": null,
      "outputs": []
    },
    {
      "cell_type": "code",
      "metadata": {
        "id": "92pOQpG29Amh",
        "colab_type": "code",
        "colab": {}
      },
      "source": [
        ""
      ],
      "execution_count": null,
      "outputs": []
    },
    {
      "cell_type": "code",
      "metadata": {
        "id": "_CUO1mgMyxbt",
        "colab_type": "code",
        "colab": {
          "base_uri": "https://localhost:8080/",
          "height": 123
        },
        "outputId": "6511c5f3-8b86-48d7-b552-0049c53fd39a"
      },
      "source": [
        "print('\\n The types of fraudulent transactions are {}'.format(\\\n",
        "list(fin_df.loc[fin_df.isFraud == 1].type.drop_duplicates().values))) # only 'CASH_OUT' \n",
        "                                                             # & 'TRANSFER'\n",
        "\n",
        "dfFraudTransfer = fin_df.loc[(fin_df.isFraud == 1) & (fin_df.type == 'TRANSFER')]\n",
        "dfFraudCashout = fin_df.loc[(fin_df.isFraud == 1) & (fin_df.type == 'CASH_OUT')]\n",
        "  \n",
        "print ('\\n The number of fraudulent TRANSFERs = {}'.\\\n",
        "       format(len(dfFraudTransfer))) \n",
        "\n",
        "print ('\\n The number of fraudulent CASH_OUTs = {}'.\\\n",
        "       format(len(dfFraudCashout))) "
      ],
      "execution_count": null,
      "outputs": [
        {
          "output_type": "stream",
          "text": [
            "\n",
            " The types of fraudulent transactions are ['TRANSFER', 'CASH_OUT']\n",
            "\n",
            " The number of fraudulent TRANSFERs = 4097\n",
            "\n",
            " The number of fraudulent CASH_OUTs = 4116\n"
          ],
          "name": "stdout"
        }
      ]
    },
    {
      "cell_type": "code",
      "metadata": {
        "id": "fOqIy4yD9qW9",
        "colab_type": "code",
        "colab": {}
      },
      "source": [
        "import plotly.graph_objs as go"
      ],
      "execution_count": null,
      "outputs": []
    },
    {
      "cell_type": "code",
      "metadata": {
        "id": "ksFZc9Fb9q_w",
        "colab_type": "code",
        "colab": {
          "base_uri": "https://localhost:8080/",
          "height": 579
        },
        "outputId": "2e4cf376-7228-404c-9e61-5e162cb2662f"
      },
      "source": [
        "plt.figure(figsize=(12,8))\n",
        "b1=sns.boxplot(x = 'isFraud', y = 'amount', data = df[df.amount < 1e5])\n",
        "b1.set_xlabel(\"isFraud\",fontsize=20) \n",
        "b1.set_ylabel(\"amount\",fontsize=20)\n",
        "b1.tick_params(labelsize=17)\n",
        "sns.plt.show()"
      ],
      "execution_count": null,
      "outputs": [
        {
          "output_type": "stream",
          "text": [
            "/usr/local/lib/python3.6/dist-packages/seaborn/categorical.py:454: FutureWarning:\n",
            "\n",
            "remove_na is deprecated and is a private function. Do not use.\n",
            "\n"
          ],
          "name": "stderr"
        },
        {
          "output_type": "display_data",
          "data": {
            "image/png": "[encoded data removed]",
            "text/plain": [
              "<matplotlib.figure.Figure at 0x7f531fba2198>"
            ]
          },
          "metadata": {
            "tags": []
          }
        }
      ]
    },
    {
      "cell_type": "code",
      "metadata": {
        "id": "hLRHw5qz9epr",
        "colab_type": "code",
        "colab": {}
      },
      "source": [
        "df_corr = df[['amount', 'oldbalanceOrg', 'newbalanceOrig', 'oldbalanceDest', 'newbalanceDest', 'isFraud']]\n",
        "\n",
        "data = [\n",
        "    go.Heatmap(\n",
        "        z=df_corr.corr().values,\n",
        "        x=df_corr.columns.values,\n",
        "        y=df_corr.columns.values,\n",
        "        colorscale='Viridis',\n",
        "        text = True ,\n",
        "        opacity = 1.0\n",
        "        \n",
        "    )\n",
        "]\n",
        "\n",
        "\n",
        "layout = go.Layout(\n",
        "    title='Pearson Correlation of all numeric features',\n",
        ")\n",
        "\n",
        "\n",
        "fig = go.Figure(data=data, layout=layout)\n",
        "py.iplot(fig, filename='labelled-heatmap')"
      ],
      "execution_count": null,
      "outputs": []
    },
    {
      "cell_type": "code",
      "metadata": {
        "id": "mhqhP-I59xuk",
        "colab_type": "code",
        "colab": {}
      },
      "source": [
        ""
      ],
      "execution_count": null,
      "outputs": []
    },
    {
      "cell_type": "code",
      "metadata": {
        "id": "eKPOITvm9sA5",
        "colab_type": "code",
        "colab": {}
      },
      "source": [
        ""
      ],
      "execution_count": null,
      "outputs": []
    },
    {
      "cell_type": "code",
      "metadata": {
        "id": "xZtL4PZn9jjm",
        "colab_type": "code",
        "colab": {}
      },
      "source": [
        ""
      ],
      "execution_count": null,
      "outputs": []
    },
    {
      "cell_type": "code",
      "metadata": {
        "id": "rkeIN-Wul4xK",
        "colab_type": "code",
        "colab": {
          "base_uri": "https://localhost:8080/",
          "height": 364
        },
        "outputId": "2aa1183f-40f4-4e00-d048-14f6bc251e6f"
      },
      "source": [
        "import seaborn as sns\n",
        "sns.countplot(df['type'], hue = df['isFraud'])"
      ],
      "execution_count": null,
      "outputs": [
        {
          "output_type": "stream",
          "text": [
            "/usr/local/lib/python3.6/dist-packages/seaborn/categorical.py:1468: FutureWarning:\n",
            "\n",
            "remove_na is deprecated and is a private function. Do not use.\n",
            "\n"
          ],
          "name": "stderr"
        },
        {
          "output_type": "execute_result",
          "data": {
            "text/plain": [
              "<matplotlib.axes._subplots.AxesSubplot at 0x7f531fbabbe0>"
            ]
          },
          "metadata": {
            "tags": []
          },
          "execution_count": 30
        },
        {
          "output_type": "display_data",
          "data": {
            "image/png": "[encoded data removed]",
            "text/plain": [
              "<matplotlib.figure.Figure at 0x7f532facf6d8>"
            ]
          },
          "metadata": {
            "tags": []
          }
        }
      ]
    },
    {
      "cell_type": "code",
      "metadata": {
        "id": "fYm7PMer-kAy",
        "colab_type": "code",
        "colab": {
          "base_uri": "https://localhost:8080/",
          "height": 579
        },
        "outputId": "e3de4131-e813-487b-e67c-7be16ea0b9e1"
      },
      "source": [
        "plt.figure(figsize=(12,8))\n",
        "b1=sns.boxplot(hue = 'isFraud', x = 'type', y = 'amount', data = df[df.amount < 1e5])\n",
        "b1.set_xlabel('type', fontsize=20)\n",
        "b1.set_ylabel('amount',fontsize=20)\n",
        "b1.tick_params(labelsize=17)\n",
        "sns.plt.show()"
      ],
      "execution_count": null,
      "outputs": [
        {
          "output_type": "stream",
          "text": [
            "/usr/local/lib/python3.6/dist-packages/seaborn/categorical.py:482: FutureWarning:\n",
            "\n",
            "remove_na is deprecated and is a private function. Do not use.\n",
            "\n"
          ],
          "name": "stderr"
        },
        {
          "output_type": "display_data",
          "data": {
            "image/png": "[encoded data removed]",
            "text/plain": [
              "<matplotlib.figure.Figure at 0x7f5313c1ab38>"
            ]
          },
          "metadata": {
            "tags": []
          }
        }
      ]
    },
    {
      "cell_type": "code",
      "metadata": {
        "id": "EwE4AG-mRTdW",
        "colab_type": "code",
        "colab": {}
      },
      "source": [
        "# sns.scatterplot(data=fin_df, y=\"amount\", x=\"type\", hue=\"isFraud\")"
      ],
      "execution_count": null,
      "outputs": []
    },
    {
      "cell_type": "code",
      "metadata": {
        "id": "j-AeYsqhR3Q-",
        "colab_type": "code",
        "colab": {}
      },
      "source": [
        "# sns.countplot(data=fin_df[fin_df.amount > 1e5], x=\"type\", hue=\"isFraud\")"
      ],
      "execution_count": null,
      "outputs": []
    },
    {
      "cell_type": "code",
      "metadata": {
        "id": "3Oj3wNCzS2cT",
        "colab_type": "code",
        "colab": {}
      },
      "source": [
        "# sns.catplot(x=\"type\", y=\"isFlaggedFraud\", data=fin_df[fin_df.amount > 1e5])"
      ],
      "execution_count": null,
      "outputs": []
    },
    {
      "cell_type": "code",
      "metadata": {
        "id": "mhtjiFn9TaIk",
        "colab_type": "code",
        "colab": {}
      },
      "source": [
        "plt.figure(figsize=(12,8))\n",
        "sns.pairplot(fin_df[['amount', 'oldbalanceOrg', 'oldbalanceDest', 'isFraud']], hue='isFraud')"
      ],
      "execution_count": null,
      "outputs": []
    },
    {
      "cell_type": "code",
      "metadata": {
        "id": "0MMwC7NKTcHv",
        "colab_type": "code",
        "colab": {}
      },
      "source": [
        ""
      ],
      "execution_count": null,
      "outputs": []
    },
    {
      "cell_type": "code",
      "metadata": {
        "id": "PACXabHv-kwZ",
        "colab_type": "code",
        "colab": {}
      },
      "source": [
        "# df = df.sample(636262) \n",
        "plt.figure(figsize=(12,8))\n",
        "b1 = sns.pairplot(fin_df[['amount', 'oldbalanceOrg', 'newbalanceOrig', 'oldbalanceDest', 'newbalanceDest', 'isFraud']], hue='isFraud')\n",
        "b1.set_xlabel('type', fontsize=20) \n",
        "b1.set_ylabel('amount',fontsize=20)x`\n",
        "b1.tick_params(labelsize=17)"
      ],
      "execution_count": null,
      "outputs": []
    },
    {
      "cell_type": "code",
      "metadata": {
        "id": "62KVongrliSd",
        "colab_type": "code",
        "colab": {
          "base_uri": "https://localhost:8080/",
          "height": 137
        },
        "outputId": "e185d42a-c578-40ac-ebec-2bcb3fed4a00"
      },
      "source": [
        "fin_df[fin_df['isFraud']==1].groupby('type').count()"
      ],
      "execution_count": null,
      "outputs": [
        {
          "output_type": "execute_result",
          "data": {
            "text/html": [
              "<div>\n",
              "<style scoped>\n",
              "    .dataframe tbody tr th:only-of-type {\n",
              "        vertical-align: middle;\n",
              "    }\n",
              "\n",
              "    .dataframe tbody tr th {\n",
              "        vertical-align: top;\n",
              "    }\n",
              "\n",
              "    .dataframe thead th {\n",
              "        text-align: right;\n",
              "    }\n",
              "</style>\n",
              "<table border=\"1\" class=\"dataframe\">\n",
              "  <thead>\n",
              "    <tr style=\"text-align: right;\">\n",
              "      <th></th>\n",
              "      <th>step</th>\n",
              "      <th>amount</th>\n",
              "      <th>nameOrig</th>\n",
              "      <th>oldbalanceOrg</th>\n",
              "      <th>newbalanceOrig</th>\n",
              "      <th>nameDest</th>\n",
              "      <th>oldbalanceDest</th>\n",
              "      <th>newbalanceDest</th>\n",
              "      <th>isFraud</th>\n",
              "      <th>isFlaggedFraud</th>\n",
              "    </tr>\n",
              "    <tr>\n",
              "      <th>type</th>\n",
              "      <th></th>\n",
              "      <th></th>\n",
              "      <th></th>\n",
              "      <th></th>\n",
              "      <th></th>\n",
              "      <th></th>\n",
              "      <th></th>\n",
              "      <th></th>\n",
              "      <th></th>\n",
              "      <th></th>\n",
              "    </tr>\n",
              "  </thead>\n",
              "  <tbody>\n",
              "    <tr>\n",
              "      <th>CASH_OUT</th>\n",
              "      <td>4116</td>\n",
              "      <td>4116</td>\n",
              "      <td>4116</td>\n",
              "      <td>4116</td>\n",
              "      <td>4116</td>\n",
              "      <td>4116</td>\n",
              "      <td>4116</td>\n",
              "      <td>4116</td>\n",
              "      <td>4116</td>\n",
              "      <td>4116</td>\n",
              "    </tr>\n",
              "    <tr>\n",
              "      <th>TRANSFER</th>\n",
              "      <td>4097</td>\n",
              "      <td>4097</td>\n",
              "      <td>4097</td>\n",
              "      <td>4097</td>\n",
              "      <td>4097</td>\n",
              "      <td>4097</td>\n",
              "      <td>4097</td>\n",
              "      <td>4097</td>\n",
              "      <td>4097</td>\n",
              "      <td>4097</td>\n",
              "    </tr>\n",
              "  </tbody>\n",
              "</table>\n",
              "</div>"
            ],
            "text/plain": [
              "          step  amount  nameOrig  oldbalanceOrg  newbalanceOrig  nameDest  \\\n",
              "type                                                                        \n",
              "CASH_OUT  4116    4116      4116           4116            4116      4116   \n",
              "TRANSFER  4097    4097      4097           4097            4097      4097   \n",
              "\n",
              "          oldbalanceDest  newbalanceDest  isFraud  isFlaggedFraud  \n",
              "type                                                               \n",
              "CASH_OUT            4116            4116     4116            4116  \n",
              "TRANSFER            4097            4097     4097            4097  "
            ]
          },
          "metadata": {
            "tags": []
          },
          "execution_count": 11
        }
      ]
    },
    {
      "cell_type": "code",
      "metadata": {
        "id": "dekPLzv7oKrM",
        "colab_type": "code",
        "colab": {}
      },
      "source": [
        "from sklearn.preprocessing import StandardScaler\n",
        "sc = StandardScaler()\n",
        "X_toScale = fin_df[['amount', 'oldbalanceOrg', 'newbalanceOrig',\n",
        "      'oldbalanceDest', 'newbalanceDest'\n",
        "       ]]\n",
        "new_X = sc.fit(X_toScale)\n",
        "X_scaled = new_X.transform(X_toScale)"
      ],
      "execution_count": null,
      "outputs": []
    },
    {
      "cell_type": "code",
      "metadata": {
        "id": "zSbbflGBoOk3",
        "colab_type": "code",
        "colab": {}
      },
      "source": [
        "scaled_df = pd.DataFrame(X_scaled, columns=['amount', 'oldbalanceOrg', 'newbalanceOrig',\n",
        "      'oldbalanceDest', 'newbalanceDest'\n",
        "       ])"
      ],
      "execution_count": null,
      "outputs": []
    },
    {
      "cell_type": "code",
      "metadata": {
        "id": "954EE8Lei0sc",
        "colab_type": "code",
        "colab": {}
      },
      "source": [
        "# we have also some categorical variable, called Type. Let's convert it to dummies, and then add to our final dataframe\n",
        "dummy_df = pd.DataFrame(pd.get_dummies(fin_df['type']))\n",
        "#now, final dataframe\n",
        "final_df = scaled_df.join(dummy_df, how = 'outer')"
      ],
      "execution_count": null,
      "outputs": []
    },
    {
      "cell_type": "code",
      "metadata": {
        "id": "RArWyCYkglzn",
        "colab_type": "code",
        "colab": {
          "base_uri": "https://localhost:8080/",
          "height": 204
        },
        "outputId": "4b4996fc-045b-459a-927b-e91a1b48cfb8"
      },
      "source": [
        "final_df.head(5)"
      ],
      "execution_count": null,
      "outputs": [
        {
          "output_type": "execute_result",
          "data": {
            "text/html": [
              "<div>\n",
              "<style scoped>\n",
              "    .dataframe tbody tr th:only-of-type {\n",
              "        vertical-align: middle;\n",
              "    }\n",
              "\n",
              "    .dataframe tbody tr th {\n",
              "        vertical-align: top;\n",
              "    }\n",
              "\n",
              "    .dataframe thead th {\n",
              "        text-align: right;\n",
              "    }\n",
              "</style>\n",
              "<table border=\"1\" class=\"dataframe\">\n",
              "  <thead>\n",
              "    <tr style=\"text-align: right;\">\n",
              "      <th></th>\n",
              "      <th>amount</th>\n",
              "      <th>oldbalanceOrg</th>\n",
              "      <th>newbalanceOrig</th>\n",
              "      <th>oldbalanceDest</th>\n",
              "      <th>newbalanceDest</th>\n",
              "      <th>CASH_IN</th>\n",
              "      <th>CASH_OUT</th>\n",
              "      <th>DEBIT</th>\n",
              "      <th>PAYMENT</th>\n",
              "      <th>TRANSFER</th>\n",
              "    </tr>\n",
              "  </thead>\n",
              "  <tbody>\n",
              "    <tr>\n",
              "      <th>0</th>\n",
              "      <td>-0.281560</td>\n",
              "      <td>-0.229810</td>\n",
              "      <td>-0.237622</td>\n",
              "      <td>-0.323814</td>\n",
              "      <td>-0.333411</td>\n",
              "      <td>0</td>\n",
              "      <td>0</td>\n",
              "      <td>0</td>\n",
              "      <td>1</td>\n",
              "      <td>0</td>\n",
              "    </tr>\n",
              "    <tr>\n",
              "      <th>1</th>\n",
              "      <td>-0.294767</td>\n",
              "      <td>-0.281359</td>\n",
              "      <td>-0.285812</td>\n",
              "      <td>-0.323814</td>\n",
              "      <td>-0.333411</td>\n",
              "      <td>0</td>\n",
              "      <td>0</td>\n",
              "      <td>0</td>\n",
              "      <td>1</td>\n",
              "      <td>0</td>\n",
              "    </tr>\n",
              "    <tr>\n",
              "      <th>2</th>\n",
              "      <td>-0.297555</td>\n",
              "      <td>-0.288654</td>\n",
              "      <td>-0.292442</td>\n",
              "      <td>-0.323814</td>\n",
              "      <td>-0.333411</td>\n",
              "      <td>0</td>\n",
              "      <td>0</td>\n",
              "      <td>0</td>\n",
              "      <td>0</td>\n",
              "      <td>1</td>\n",
              "    </tr>\n",
              "    <tr>\n",
              "      <th>3</th>\n",
              "      <td>-0.297555</td>\n",
              "      <td>-0.288654</td>\n",
              "      <td>-0.292442</td>\n",
              "      <td>-0.317582</td>\n",
              "      <td>-0.333411</td>\n",
              "      <td>0</td>\n",
              "      <td>1</td>\n",
              "      <td>0</td>\n",
              "      <td>0</td>\n",
              "      <td>0</td>\n",
              "    </tr>\n",
              "    <tr>\n",
              "      <th>4</th>\n",
              "      <td>-0.278532</td>\n",
              "      <td>-0.274329</td>\n",
              "      <td>-0.282221</td>\n",
              "      <td>-0.323814</td>\n",
              "      <td>-0.333411</td>\n",
              "      <td>0</td>\n",
              "      <td>0</td>\n",
              "      <td>0</td>\n",
              "      <td>1</td>\n",
              "      <td>0</td>\n",
              "    </tr>\n",
              "  </tbody>\n",
              "</table>\n",
              "</div>"
            ],
            "text/plain": [
              "     amount  oldbalanceOrg  newbalanceOrig  oldbalanceDest  newbalanceDest  \\\n",
              "0 -0.281560      -0.229810       -0.237622       -0.323814       -0.333411   \n",
              "1 -0.294767      -0.281359       -0.285812       -0.323814       -0.333411   \n",
              "2 -0.297555      -0.288654       -0.292442       -0.323814       -0.333411   \n",
              "3 -0.297555      -0.288654       -0.292442       -0.317582       -0.333411   \n",
              "4 -0.278532      -0.274329       -0.282221       -0.323814       -0.333411   \n",
              "\n",
              "   CASH_IN  CASH_OUT  DEBIT  PAYMENT  TRANSFER  \n",
              "0        0         0      0        1         0  \n",
              "1        0         0      0        1         0  \n",
              "2        0         0      0        0         1  \n",
              "3        0         1      0        0         0  \n",
              "4        0         0      0        1         0  "
            ]
          },
          "metadata": {
            "tags": []
          },
          "execution_count": 17
        }
      ]
    },
    {
      "cell_type": "code",
      "metadata": {
        "id": "5sCnepWY4M8o",
        "colab_type": "code",
        "colab": {
          "base_uri": "https://localhost:8080/",
          "height": 72
        },
        "outputId": "9063437e-d04e-42e1-88f3-20686b1aa4f0"
      },
      "source": [
        "from sklearn.ensemble import RandomForestClassifier\n",
        "from sklearn.model_selection import train_test_split\n",
        "rfc = RandomForestClassifier() \n",
        "\n",
        "X = final_df \n",
        "y = fin_df['isFraud'] \n",
        "X_train, X_test, y_train, y_test = train_test_split(X, y, test_size=0.3, random_state=42) \n",
        "model = rfc.fit(X_train,y_train)\n",
        "\n",
        "predictions = model.predict(X_test)"
      ],
      "execution_count": null,
      "outputs": [
        {
          "output_type": "stream",
          "text": [
            "/usr/local/lib/python3.6/dist-packages/sklearn/ensemble/forest.py:246: FutureWarning: The default value of n_estimators will change from 10 in version 0.20 to 100 in 0.22.\n",
            "  \"10 in version 0.20 to 100 in 0.22.\", FutureWarning)\n"
          ],
          "name": "stderr"
        }
      ]
    },
    {
      "cell_type": "code",
      "metadata": {
        "id": "lnIbpvn44QYa",
        "colab_type": "code",
        "colab": {
          "base_uri": "https://localhost:8080/",
          "height": 212
        },
        "outputId": "c5fffa78-3cb7-48f5-a04a-9ad27c39b618"
      },
      "source": [
        "from sklearn.metrics import classification_report, confusion_matrix\n",
        "print(classification_report(y_test,predictions))\n",
        "print(confusion_matrix(y_test, predictions))"
      ],
      "execution_count": null,
      "outputs": [
        {
          "output_type": "stream",
          "text": [
            "              precision    recall  f1-score   support\n",
            "\n",
            "           0       1.00      1.00      1.00   1906351\n",
            "           1       0.95      0.78      0.86      2435\n",
            "\n",
            "   micro avg       1.00      1.00      1.00   1908786\n",
            "   macro avg       0.98      0.89      0.93   1908786\n",
            "weighted avg       1.00      1.00      1.00   1908786\n",
            "\n",
            "[[1906257      94]\n",
            " [    528    1907]]\n"
          ],
          "name": "stdout"
        }
      ]
    },
    {
      "cell_type": "code",
      "metadata": {
        "id": "s0FWA6m6QKUZ",
        "colab_type": "code",
        "colab": {}
      },
      "source": [
        ""
      ],
      "execution_count": null,
      "outputs": []
    },
    {
      "cell_type": "code",
      "metadata": {
        "id": "DmeNoujS8whQ",
        "colab_type": "code",
        "colab": {}
      },
      "source": [
        ""
      ],
      "execution_count": null,
      "outputs": []
    },
    {
      "cell_type": "code",
      "metadata": {
        "id": "_BFiqYDf4iEc",
        "colab_type": "code",
        "colab": {}
      },
      "source": [
        ""
      ],
      "execution_count": null,
      "outputs": []
    }
  ]
}